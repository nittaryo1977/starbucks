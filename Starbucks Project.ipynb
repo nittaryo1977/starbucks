{
 "cells": [
  {
   "cell_type": "code",
   "execution_count": 661,
   "metadata": {
    "collapsed": true
   },
   "outputs": [],
   "source": [
    "import pandas as pd\n",
    "import matplotlib.pyplot as plt\n",
    "import numpy as np\n",
    "from sklearn.cluster import KMeans\n",
    "from sklearn.linear_model import LogisticRegression\n",
    "from sklearn.tree import DecisionTreeClassifier\n",
    "from sklearn.ensemble import RandomForestClassifier\n",
    "from sklearn.svm import SVC\n",
    "from sklearn.model_selection import GridSearchCV\n",
    "from sklearn.model_selection import cross_validate\n",
    "from sklearn.model_selection import train_test_split\n",
    "from sklearn.tree import export_graphviz\n",
    "from sklearn.preprocessing import Normalizer\n",
    "import graphviz\n",
    "import seaborn as sns\n",
    "%matplotlib inline"
   ]
  },
  {
   "cell_type": "markdown",
   "metadata": {},
   "source": [
    "# Starbucks Project"
   ]
  },
  {
   "cell_type": "markdown",
   "metadata": {},
   "source": [
    "## 1. Business Understanding"
   ]
  },
  {
   "cell_type": "markdown",
   "metadata": {},
   "source": [
    "It is important for chain stores for consumers like Starbucks to **make effective promotion offers** to its customers. As promotion offers incur certain cost, they should be spent only for customers who will become loyal customers of Starbucks. Being that said, Starbucks needs to know **what kind of offers are \"effective\" for what kind of customers.** Luckily, here we have a set of data from Starbucks which is provided for capstone project for Udacity Data Science Nano-degree program. With the data set, we will explore;  \n",
    " - **Which groups of people are most responsive to each type of offer?**\n",
    " - **How best to present each type of offer?**\n"
   ]
  },
  {
   "cell_type": "markdown",
   "metadata": {},
   "source": [
    "## 2. Data Understanding"
   ]
  },
  {
   "cell_type": "markdown",
   "metadata": {},
   "source": [
    "### Data Set\n",
    "Here we have three data files.\n",
    "- **portfolio.json** - information about offers\n",
    "- **profile.json** - information about customers\n",
    "- **transcript.json** -  data containing four types of transactions - (1)purchases, (2)offers received, (3)offers viewed and (4)offers completed."
   ]
  },
  {
   "cell_type": "markdown",
   "metadata": {},
   "source": [
    "We will review each file one by one."
   ]
  },
  {
   "cell_type": "markdown",
   "metadata": {},
   "source": [
    "#### Offers"
   ]
  },
  {
   "cell_type": "markdown",
   "metadata": {},
   "source": [
    "**portfolio.json**\n",
    "* id (string) - offer id\n",
    "* offer_type (string) - type of offer ie BOGO, discount, informational\n",
    "* difficulty (int) - minimum required spend to complete an offer\n",
    "* reward (int) - reward given for completing an offer\n",
    "* duration (int) - time for offer to be open, in days\n",
    "* channels (list of strings)"
   ]
  },
  {
   "cell_type": "code",
   "execution_count": 558,
   "metadata": {
    "collapsed": false
   },
   "outputs": [
    {
     "name": "stdout",
     "output_type": "stream",
     "text": [
      "(10, 6)\n"
     ]
    },
    {
     "data": {
      "text/html": [
       "<div>\n",
       "<style scoped>\n",
       "    .dataframe tbody tr th:only-of-type {\n",
       "        vertical-align: middle;\n",
       "    }\n",
       "\n",
       "    .dataframe tbody tr th {\n",
       "        vertical-align: top;\n",
       "    }\n",
       "\n",
       "    .dataframe thead th {\n",
       "        text-align: right;\n",
       "    }\n",
       "</style>\n",
       "<table border=\"1\" class=\"dataframe\">\n",
       "  <thead>\n",
       "    <tr style=\"text-align: right;\">\n",
       "      <th></th>\n",
       "      <th>reward</th>\n",
       "      <th>channels</th>\n",
       "      <th>difficulty</th>\n",
       "      <th>duration</th>\n",
       "      <th>offer_type</th>\n",
       "      <th>id</th>\n",
       "    </tr>\n",
       "  </thead>\n",
       "  <tbody>\n",
       "    <tr>\n",
       "      <th>0</th>\n",
       "      <td>10</td>\n",
       "      <td>[email, mobile, social]</td>\n",
       "      <td>10</td>\n",
       "      <td>7</td>\n",
       "      <td>bogo</td>\n",
       "      <td>ae264e3637204a6fb9bb56bc8210ddfd</td>\n",
       "    </tr>\n",
       "    <tr>\n",
       "      <th>1</th>\n",
       "      <td>10</td>\n",
       "      <td>[web, email, mobile, social]</td>\n",
       "      <td>10</td>\n",
       "      <td>5</td>\n",
       "      <td>bogo</td>\n",
       "      <td>4d5c57ea9a6940dd891ad53e9dbe8da0</td>\n",
       "    </tr>\n",
       "    <tr>\n",
       "      <th>2</th>\n",
       "      <td>0</td>\n",
       "      <td>[web, email, mobile]</td>\n",
       "      <td>0</td>\n",
       "      <td>4</td>\n",
       "      <td>informational</td>\n",
       "      <td>3f207df678b143eea3cee63160fa8bed</td>\n",
       "    </tr>\n",
       "    <tr>\n",
       "      <th>3</th>\n",
       "      <td>5</td>\n",
       "      <td>[web, email, mobile]</td>\n",
       "      <td>5</td>\n",
       "      <td>7</td>\n",
       "      <td>bogo</td>\n",
       "      <td>9b98b8c7a33c4b65b9aebfe6a799e6d9</td>\n",
       "    </tr>\n",
       "    <tr>\n",
       "      <th>4</th>\n",
       "      <td>5</td>\n",
       "      <td>[web, email]</td>\n",
       "      <td>20</td>\n",
       "      <td>10</td>\n",
       "      <td>discount</td>\n",
       "      <td>0b1e1539f2cc45b7b9fa7c272da2e1d7</td>\n",
       "    </tr>\n",
       "  </tbody>\n",
       "</table>\n",
       "</div>"
      ],
      "text/plain": [
       "   reward                      channels  difficulty  duration     offer_type  \\\n",
       "0      10       [email, mobile, social]          10         7           bogo   \n",
       "1      10  [web, email, mobile, social]          10         5           bogo   \n",
       "2       0          [web, email, mobile]           0         4  informational   \n",
       "3       5          [web, email, mobile]           5         7           bogo   \n",
       "4       5                  [web, email]          20        10       discount   \n",
       "\n",
       "                                 id  \n",
       "0  ae264e3637204a6fb9bb56bc8210ddfd  \n",
       "1  4d5c57ea9a6940dd891ad53e9dbe8da0  \n",
       "2  3f207df678b143eea3cee63160fa8bed  \n",
       "3  9b98b8c7a33c4b65b9aebfe6a799e6d9  \n",
       "4  0b1e1539f2cc45b7b9fa7c272da2e1d7  "
      ]
     },
     "execution_count": 558,
     "metadata": {},
     "output_type": "execute_result"
    }
   ],
   "source": [
    "# Loading offers from portfolio.json\n",
    "offers = pd.read_json(\"data/portfolio.json\", orient=\"records\", lines=True)\n",
    "print(offers.shape)\n",
    "offers.head()"
   ]
  },
  {
   "cell_type": "markdown",
   "metadata": {},
   "source": [
    "#### Customers"
   ]
  },
  {
   "cell_type": "markdown",
   "metadata": {},
   "source": [
    "**profile.json**\n",
    "* age (int) - age of the customer \n",
    "* became_member_on (int) - date when customer created an app account\n",
    "* gender (str) - gender of the customer (note some entries contain 'O' for other rather than M or F)\n",
    "* id (str) - customer id\n",
    "* income (float) - customer's income"
   ]
  },
  {
   "cell_type": "code",
   "execution_count": 12,
   "metadata": {
    "collapsed": false
   },
   "outputs": [
    {
     "name": "stdout",
     "output_type": "stream",
     "text": [
      "(17000, 5)\n"
     ]
    },
    {
     "data": {
      "text/html": [
       "<div>\n",
       "<style scoped>\n",
       "    .dataframe tbody tr th:only-of-type {\n",
       "        vertical-align: middle;\n",
       "    }\n",
       "\n",
       "    .dataframe tbody tr th {\n",
       "        vertical-align: top;\n",
       "    }\n",
       "\n",
       "    .dataframe thead th {\n",
       "        text-align: right;\n",
       "    }\n",
       "</style>\n",
       "<table border=\"1\" class=\"dataframe\">\n",
       "  <thead>\n",
       "    <tr style=\"text-align: right;\">\n",
       "      <th></th>\n",
       "      <th>gender</th>\n",
       "      <th>age</th>\n",
       "      <th>id</th>\n",
       "      <th>became_member_on</th>\n",
       "      <th>income</th>\n",
       "    </tr>\n",
       "  </thead>\n",
       "  <tbody>\n",
       "    <tr>\n",
       "      <th>0</th>\n",
       "      <td>None</td>\n",
       "      <td>118</td>\n",
       "      <td>68be06ca386d4c31939f3a4f0e3dd783</td>\n",
       "      <td>20170212</td>\n",
       "      <td>NaN</td>\n",
       "    </tr>\n",
       "    <tr>\n",
       "      <th>1</th>\n",
       "      <td>F</td>\n",
       "      <td>55</td>\n",
       "      <td>0610b486422d4921ae7d2bf64640c50b</td>\n",
       "      <td>20170715</td>\n",
       "      <td>112000.0</td>\n",
       "    </tr>\n",
       "    <tr>\n",
       "      <th>2</th>\n",
       "      <td>None</td>\n",
       "      <td>118</td>\n",
       "      <td>38fe809add3b4fcf9315a9694bb96ff5</td>\n",
       "      <td>20180712</td>\n",
       "      <td>NaN</td>\n",
       "    </tr>\n",
       "    <tr>\n",
       "      <th>3</th>\n",
       "      <td>F</td>\n",
       "      <td>75</td>\n",
       "      <td>78afa995795e4d85b5d9ceeca43f5fef</td>\n",
       "      <td>20170509</td>\n",
       "      <td>100000.0</td>\n",
       "    </tr>\n",
       "    <tr>\n",
       "      <th>4</th>\n",
       "      <td>None</td>\n",
       "      <td>118</td>\n",
       "      <td>a03223e636434f42ac4c3df47e8bac43</td>\n",
       "      <td>20170804</td>\n",
       "      <td>NaN</td>\n",
       "    </tr>\n",
       "  </tbody>\n",
       "</table>\n",
       "</div>"
      ],
      "text/plain": [
       "  gender  age                                id  became_member_on    income\n",
       "0   None  118  68be06ca386d4c31939f3a4f0e3dd783          20170212       NaN\n",
       "1      F   55  0610b486422d4921ae7d2bf64640c50b          20170715  112000.0\n",
       "2   None  118  38fe809add3b4fcf9315a9694bb96ff5          20180712       NaN\n",
       "3      F   75  78afa995795e4d85b5d9ceeca43f5fef          20170509  100000.0\n",
       "4   None  118  a03223e636434f42ac4c3df47e8bac43          20170804       NaN"
      ]
     },
     "execution_count": 12,
     "metadata": {},
     "output_type": "execute_result"
    }
   ],
   "source": [
    "# Loading customers from profile.json\n",
    "customers = pd.read_json(\"data/profile.json\", orient=\"records\", lines=True)\n",
    "print(customers.shape)\n",
    "customers.head()"
   ]
  },
  {
   "cell_type": "markdown",
   "metadata": {},
   "source": [
    "#### Transactions"
   ]
  },
  {
   "cell_type": "markdown",
   "metadata": {},
   "source": [
    "**transcript.json**\n",
    "* event (str) - record description (ie transaction, offer received, offer viewed, etc.)\n",
    "* person (str) - customer id\n",
    "* time (int) - time in hours since start of test. The data begins at time t=0\n",
    "* value - (dict of strings) - either an offer id or transaction amount depending on the record"
   ]
  },
  {
   "cell_type": "code",
   "execution_count": 14,
   "metadata": {
    "collapsed": false
   },
   "outputs": [
    {
     "name": "stdout",
     "output_type": "stream",
     "text": [
      "(306534, 4)\n"
     ]
    }
   ],
   "source": [
    "trans = pd.read_json(\"data/transcript.json\", orient=\"records\", lines=True)\n",
    "print(trans.shape)\n",
    "purchases = trans[trans[\"event\"]==\"transaction\"]\n",
    "offers_received = trans[trans[\"event\"]==\"offer received\"]\n",
    "offers_viewed = trans[trans[\"event\"]==\"offer viewed\"]\n",
    "offers_completed = trans[trans[\"event\"]==\"offer completed\"]"
   ]
  },
  {
   "cell_type": "markdown",
   "metadata": {},
   "source": [
    "## 3. Data Preparation (common)"
   ]
  },
  {
   "cell_type": "markdown",
   "metadata": {},
   "source": [
    "We will process data cleaning and preparation in this section such as filling missing values from other formats, extracting values, as well as creating bins."
   ]
  },
  {
   "cell_type": "markdown",
   "metadata": {},
   "source": [
    "#### 3.1. Customer Attributes"
   ]
  },
  {
   "cell_type": "code",
   "execution_count": 24,
   "metadata": {
    "collapsed": false
   },
   "outputs": [
    {
     "data": {
      "text/plain": [
       "M          8484\n",
       "F          6129\n",
       "Unknown    2175\n",
       "O           212\n",
       "Name: gender, dtype: int64"
      ]
     },
     "execution_count": 24,
     "metadata": {},
     "output_type": "execute_result"
    }
   ],
   "source": [
    "# Filling missing values in Gender with \"Unknown\"\n",
    "customers[\"gender\"] = customers[\"gender\"].fillna(value=\"Unknown\")\n",
    "customers[\"gender\"].value_counts(dropna=False)"
   ]
  },
  {
   "cell_type": "code",
   "execution_count": 25,
   "metadata": {
    "collapsed": false
   },
   "outputs": [
    {
     "data": {
      "text/plain": [
       "0.0         2175\n",
       "73000.0      314\n",
       "72000.0      297\n",
       "71000.0      294\n",
       "57000.0      288\n",
       "            ... \n",
       "116000.0      46\n",
       "112000.0      45\n",
       "107000.0      45\n",
       "117000.0      32\n",
       "120000.0      13\n",
       "Name: income, Length: 92, dtype: int64"
      ]
     },
     "execution_count": 25,
     "metadata": {},
     "output_type": "execute_result"
    }
   ],
   "source": [
    "# Filling missing values in Income with 0\n",
    "customers[\"income\"] = customers[\"income\"].fillna(value=0)\n",
    "customers[\"income\"].value_counts(dropna=False)"
   ]
  },
  {
   "cell_type": "code",
   "execution_count": 22,
   "metadata": {
    "collapsed": false
   },
   "outputs": [
    {
     "data": {
      "text/plain": [
       "<matplotlib.axes._subplots.AxesSubplot at 0x11c25e790>"
      ]
     },
     "execution_count": 22,
     "metadata": {},
     "output_type": "execute_result"
    },
    {
     "data": {
      "image/png": "[encoded data removed]",
      "text/plain": [
       "<Figure size 432x288 with 1 Axes>"
      ]
     },
     "metadata": {
      "needs_background": "light"
     },
     "output_type": "display_data"
    }
   ],
   "source": [
    "# Getting Membership Duration by # of Days\n",
    "current_date = pd.to_datetime(customers[\"became_member_on\"], format=\"%Y%m%d\").max()\n",
    "customers[\"membership_duration\"] = (current_date - pd.to_datetime(customers[\"became_member_on\"], format=\"%Y%m%d\")).dt.days\n",
    "customers[\"membership_duration\"].hist()"
   ]
  },
  {
   "cell_type": "code",
   "execution_count": 42,
   "metadata": {
    "collapsed": false
   },
   "outputs": [
    {
     "data": {
      "text/plain": [
       "(50, 60]     3590\n",
       "(60, 70]     2910\n",
       "(90, 120]    2394\n",
       "(40, 50]     2391\n",
       "(70, 80]     1646\n",
       "(30, 40]     1597\n",
       "(20, 30]     1365\n",
       "(80, 90]      767\n",
       "(10, 20]      340\n",
       "(0, 10]         0\n",
       "Name: age_bin, dtype: int64"
      ]
     },
     "execution_count": 42,
     "metadata": {},
     "output_type": "execute_result"
    }
   ],
   "source": [
    "# Creating Age Bin\n",
    "customers[\"age_bin\"] = pd.cut(customers[\"age\"],bins=[0,10,20,30,40,50,60,70,80,90,120])\n",
    "customers[\"age_bin\"].value_counts()"
   ]
  },
  {
   "cell_type": "code",
   "execution_count": 40,
   "metadata": {
    "collapsed": false
   },
   "outputs": [
    {
     "data": {
      "text/plain": [
       "(48000.0, 60000.0]      3069\n",
       "(60000.0, 72000.0]      2938\n",
       "(36000.0, 48000.0]      2287\n",
       "(72000.0, 84000.0]      2179\n",
       "(-120.0, 12000.0]       2175\n",
       "(84000.0, 96000.0]      1563\n",
       "(24000.0, 36000.0]      1337\n",
       "(96000.0, 108000.0]      872\n",
       "(108000.0, 120000.0]     580\n",
       "(12000.0, 24000.0]         0\n",
       "Name: income_bin, dtype: int64"
      ]
     },
     "execution_count": 40,
     "metadata": {},
     "output_type": "execute_result"
    }
   ],
   "source": [
    "# Creating Income Bin\n",
    "customers[\"income_bin\"] = pd.cut(customers[\"income\"],bins=10)\n",
    "customers[\"income_bin\"].value_counts()"
   ]
  },
  {
   "cell_type": "code",
   "execution_count": 43,
   "metadata": {
    "collapsed": false,
    "scrolled": true
   },
   "outputs": [
    {
     "data": {
      "text/plain": [
       "(182.3, 364.6]      5135\n",
       "(-1.823, 182.3]     3556\n",
       "(729.2, 911.5]      1795\n",
       "(364.6, 546.9]      1748\n",
       "(546.9, 729.2]      1715\n",
       "(911.5, 1093.8]     1658\n",
       "(1458.4, 1640.7]     362\n",
       "(1093.8, 1276.1]     362\n",
       "(1640.7, 1823.0]     343\n",
       "(1276.1, 1458.4]     326\n",
       "Name: membership_duration_bin, dtype: int64"
      ]
     },
     "execution_count": 43,
     "metadata": {},
     "output_type": "execute_result"
    }
   ],
   "source": [
    "# Creating Membership Duration Bin\n",
    "customers[\"membership_duration_bin\"] = pd.cut(customers[\"membership_duration\"],bins=10)\n",
    "customers[\"membership_duration_bin\"].value_counts()"
   ]
  },
  {
   "cell_type": "markdown",
   "metadata": {},
   "source": [
    "#### 4.2. Transactions"
   ]
  },
  {
   "cell_type": "code",
   "execution_count": 32,
   "metadata": {
    "collapsed": false
   },
   "outputs": [
    {
     "data": {
      "text/plain": [
       "count    138953.000000\n",
       "mean         12.777356\n",
       "std          30.250529\n",
       "min           0.050000\n",
       "25%           2.780000\n",
       "50%           8.890000\n",
       "75%          18.070000\n",
       "max        1062.280000\n",
       "Name: amount, dtype: float64"
      ]
     },
     "execution_count": 32,
     "metadata": {},
     "output_type": "execute_result"
    }
   ],
   "source": [
    "# Extracting amount from purchase transaction\n",
    "purchases.loc[:,\"amount\"] = purchases.loc[:,\"value\"].apply(lambda v:v[\"amount\"]).values\n",
    "purchases[\"amount\"].describe()"
   ]
  },
  {
   "cell_type": "code",
   "execution_count": 38,
   "metadata": {
    "collapsed": false
   },
   "outputs": [
    {
     "data": {
      "text/plain": [
       "9b98b8c7a33c4b65b9aebfe6a799e6d9    7677\n",
       "0b1e1539f2cc45b7b9fa7c272da2e1d7    7668\n",
       "ae264e3637204a6fb9bb56bc8210ddfd    7658\n",
       "2298d6c36e964ae4a3e7e9706d1fb8c2    7646\n",
       "2906b810c7d4411798c6938adc9daaa5    7632\n",
       "5a8bc65990b245e5a138643cd4eb9837    7618\n",
       "3f207df678b143eea3cee63160fa8bed    7617\n",
       "fafdcd668e3743c1bb461111dcafc2a4    7597\n",
       "4d5c57ea9a6940dd891ad53e9dbe8da0    7593\n",
       "f19421c1d4aa40978ebb69ca19b0e20d    7571\n",
       "Name: offer id, dtype: int64"
      ]
     },
     "execution_count": 38,
     "metadata": {},
     "output_type": "execute_result"
    }
   ],
   "source": [
    "# Extracting offer id from offers received\n",
    "offers_received.loc[:,\"offer id\"] = offers_received.loc[:,\"value\"].apply(lambda v:v[\"offer id\"])\n",
    "offers_received[\"offer id\"].value_counts()"
   ]
  },
  {
   "cell_type": "code",
   "execution_count": 37,
   "metadata": {
    "collapsed": false
   },
   "outputs": [
    {
     "data": {
      "text/plain": [
       "fafdcd668e3743c1bb461111dcafc2a4    5317\n",
       "2298d6c36e964ae4a3e7e9706d1fb8c2    5156\n",
       "9b98b8c7a33c4b65b9aebfe6a799e6d9    4354\n",
       "f19421c1d4aa40978ebb69ca19b0e20d    4296\n",
       "2906b810c7d4411798c6938adc9daaa5    4017\n",
       "ae264e3637204a6fb9bb56bc8210ddfd    3688\n",
       "0b1e1539f2cc45b7b9fa7c272da2e1d7    3420\n",
       "4d5c57ea9a6940dd891ad53e9dbe8da0    3331\n",
       "Name: offer id, dtype: int64"
      ]
     },
     "execution_count": 37,
     "metadata": {},
     "output_type": "execute_result"
    }
   ],
   "source": [
    "# Extracting offer id from offers completed\n",
    "offers_completed.loc[:,\"offer id\"] = offers_completed.loc[:,\"value\"].apply(lambda v:v[\"offer_id\"])\n",
    "offers_completed[\"offer id\"].value_counts()"
   ]
  },
  {
   "cell_type": "markdown",
   "metadata": {},
   "source": [
    "## 4. Which groups of people are most responsive to each type of offer?"
   ]
  },
  {
   "cell_type": "markdown",
   "metadata": {},
   "source": [
    "Firstly we will explore which group of customers respond to offers best. For now, let's focus on **BOGO offers** and find patterns.  \n",
    "To classify customers into groups, we will try three approaches (**Attributes, Clustering and Decision Tree**) and consider which one is the best."
   ]
  },
  {
   "cell_type": "markdown",
   "metadata": {},
   "source": [
    "### 4.1. Attributes"
   ]
  },
  {
   "cell_type": "markdown",
   "metadata": {},
   "source": [
    "We will look at how customers respond to offers differently ascross different attribute groups. The attributes to be reviewed inlcude **gender**, **age**, **income** as well as **membership duration**."
   ]
  },
  {
   "cell_type": "code",
   "execution_count": 704,
   "metadata": {
    "collapsed": false
   },
   "outputs": [],
   "source": [
    "def conversion_by_attr(attr, offer_type=\"bogo\", customers=customers):\n",
    "    \"\"\"\n",
    "    This function filters offers received, offers completed and customer data with an offer type specified\n",
    "    and aggregates it by an attribute passed as parameter.\n",
    "    Params:\n",
    "        attr(): an attribute by which data is to be aggregated\n",
    "        offer_type(): a type of offer by with which offer data is to be filtered\n",
    "        customers: customer data with attributes which is to be joined to offer data\n",
    "    Return:\n",
    "        conv_by_attr(): offers aggreated by an attribute which is passed as a parameter \n",
    "    \"\"\"\n",
    "    # Filtering offers by offer_type\n",
    "    offers_filtered = offers[offers[\"offer_type\"]==offer_type]\n",
    "    offers_received_filtered = pd.merge(offers_received, offers_filtered, left_on=\"offer id\", right_on=\"id\")\n",
    "    offers_completed_filtered = pd.merge(offers_completed, offers_filtered, left_on=\"offer id\", right_on=\"id\")\n",
    "\n",
    "    # Grouping by an attribute\n",
    "    offers_received_grouped_by_attr = pd.merge(\n",
    "        offers_received_filtered, customers, left_on=\"person\", right_on=\"id\").groupby(by=attr)[\"offer id\"].count()\n",
    "    offers_completed_grouped_by_attr = pd.merge(\n",
    "        offers_completed_filtered, customers, left_on=\"person\", right_on=\"id\").groupby(by=attr)[\"offer id\"].count()\n",
    "\n",
    "    # Merging offers received and offers completed\n",
    "    conv_by_attr = pd.merge(\n",
    "        offers_received_grouped_by_attr, offers_completed_grouped_by_attr, on=attr,how=\"left\")\n",
    "\n",
    "    # Calculating conversion rate\n",
    "    conv_by_attr.columns=[\"num_received\", \"num_completed\"]\n",
    "    conv_by_attr[\"conversion_rate\"]=conv_by_attr[\"num_completed\"]/conv_by_attr[\"num_received\"]\n",
    "    \n",
    "    return conv_by_attr\n"
   ]
  },
  {
   "cell_type": "markdown",
   "metadata": {},
   "source": [
    "#### By Gender"
   ]
  },
  {
   "cell_type": "markdown",
   "metadata": {},
   "source": [
    "As shown below, **female customers are more likely to respond to offers** than male customers. (**68%** vs. **49%**) It should be also noted that there are certain number of customers whose gender is unknown (and conversion rate is as low as 10%)"
   ]
  },
  {
   "cell_type": "code",
   "execution_count": 705,
   "metadata": {
    "collapsed": false
   },
   "outputs": [
    {
     "data": {
      "text/html": [
       "<div>\n",
       "<style scoped>\n",
       "    .dataframe tbody tr th:only-of-type {\n",
       "        vertical-align: middle;\n",
       "    }\n",
       "\n",
       "    .dataframe tbody tr th {\n",
       "        vertical-align: top;\n",
       "    }\n",
       "\n",
       "    .dataframe thead th {\n",
       "        text-align: right;\n",
       "    }\n",
       "</style>\n",
       "<table border=\"1\" class=\"dataframe\">\n",
       "  <thead>\n",
       "    <tr style=\"text-align: right;\">\n",
       "      <th></th>\n",
       "      <th>num_received</th>\n",
       "      <th>num_completed</th>\n",
       "      <th>conversion_rate</th>\n",
       "    </tr>\n",
       "    <tr>\n",
       "      <th>gender</th>\n",
       "      <th></th>\n",
       "      <th></th>\n",
       "      <th></th>\n",
       "    </tr>\n",
       "  </thead>\n",
       "  <tbody>\n",
       "    <tr>\n",
       "      <th>F</th>\n",
       "      <td>10975</td>\n",
       "      <td>7501</td>\n",
       "      <td>0.683462</td>\n",
       "    </tr>\n",
       "    <tr>\n",
       "      <th>M</th>\n",
       "      <td>15208</td>\n",
       "      <td>7512</td>\n",
       "      <td>0.493951</td>\n",
       "    </tr>\n",
       "    <tr>\n",
       "      <th>O</th>\n",
       "      <td>354</td>\n",
       "      <td>245</td>\n",
       "      <td>0.692090</td>\n",
       "    </tr>\n",
       "    <tr>\n",
       "      <th>Unknown</th>\n",
       "      <td>3962</td>\n",
       "      <td>411</td>\n",
       "      <td>0.103735</td>\n",
       "    </tr>\n",
       "  </tbody>\n",
       "</table>\n",
       "</div>"
      ],
      "text/plain": [
       "         num_received  num_completed  conversion_rate\n",
       "gender                                               \n",
       "F               10975           7501         0.683462\n",
       "M               15208           7512         0.493951\n",
       "O                 354            245         0.692090\n",
       "Unknown          3962            411         0.103735"
      ]
     },
     "execution_count": 705,
     "metadata": {},
     "output_type": "execute_result"
    },
    {
     "data": {
      "image/png": "[encoded data removed]",
      "text/plain": [
       "<Figure size 720x288 with 2 Axes>"
      ]
     },
     "metadata": {
      "needs_background": "light"
     },
     "output_type": "display_data"
    }
   ],
   "source": [
    "conv_by_gender = conversion_by_attr(\"gender\")\n",
    "f, axes = plt.subplots(ncols=2, figsize=(10,4))\n",
    "axes[0].barh(y=conv_by_gender.index, width=conv_by_gender[\"conversion_rate\"], color=\"teal\")\n",
    "axes[0].set_title(\"Conversion Rate by Gender\")\n",
    "axes[1].barh(y=conv_by_gender.index, width=conv_by_gender[\"num_received\"])\n",
    "axes[1].set_title(\"# of Offers Received by Gender\")\n",
    "conv_by_gender"
   ]
  },
  {
   "cell_type": "markdown",
   "metadata": {},
   "source": [
    "#### By Age"
   ]
  },
  {
   "cell_type": "markdown",
   "metadata": {},
   "source": [
    "As shown bleow, **the older customers are, the more likely they are to respond to offers** in general. It should also noted that there are certain number of customers whose age is 118 which we believe is unknown data, instead of actual elderly who are 118 years old."
   ]
  },
  {
   "cell_type": "code",
   "execution_count": 706,
   "metadata": {
    "collapsed": false
   },
   "outputs": [
    {
     "data": {
      "text/html": [
       "<div>\n",
       "<style scoped>\n",
       "    .dataframe tbody tr th:only-of-type {\n",
       "        vertical-align: middle;\n",
       "    }\n",
       "\n",
       "    .dataframe tbody tr th {\n",
       "        vertical-align: top;\n",
       "    }\n",
       "\n",
       "    .dataframe thead th {\n",
       "        text-align: right;\n",
       "    }\n",
       "</style>\n",
       "<table border=\"1\" class=\"dataframe\">\n",
       "  <thead>\n",
       "    <tr style=\"text-align: right;\">\n",
       "      <th></th>\n",
       "      <th>num_received</th>\n",
       "      <th>num_completed</th>\n",
       "      <th>conversion_rate</th>\n",
       "    </tr>\n",
       "    <tr>\n",
       "      <th>age_bin</th>\n",
       "      <th></th>\n",
       "      <th></th>\n",
       "      <th></th>\n",
       "    </tr>\n",
       "  </thead>\n",
       "  <tbody>\n",
       "    <tr>\n",
       "      <th>(0, 10]</th>\n",
       "      <td>0</td>\n",
       "      <td>0</td>\n",
       "      <td>NaN</td>\n",
       "    </tr>\n",
       "    <tr>\n",
       "      <th>(10, 20]</th>\n",
       "      <td>637</td>\n",
       "      <td>244</td>\n",
       "      <td>0.383046</td>\n",
       "    </tr>\n",
       "    <tr>\n",
       "      <th>(20, 30]</th>\n",
       "      <td>2440</td>\n",
       "      <td>1066</td>\n",
       "      <td>0.436885</td>\n",
       "    </tr>\n",
       "    <tr>\n",
       "      <th>(30, 40]</th>\n",
       "      <td>2833</td>\n",
       "      <td>1439</td>\n",
       "      <td>0.507942</td>\n",
       "    </tr>\n",
       "    <tr>\n",
       "      <th>(40, 50]</th>\n",
       "      <td>4309</td>\n",
       "      <td>2448</td>\n",
       "      <td>0.568113</td>\n",
       "    </tr>\n",
       "    <tr>\n",
       "      <th>(50, 60]</th>\n",
       "      <td>6420</td>\n",
       "      <td>3991</td>\n",
       "      <td>0.621651</td>\n",
       "    </tr>\n",
       "    <tr>\n",
       "      <th>(60, 70]</th>\n",
       "      <td>5218</td>\n",
       "      <td>3130</td>\n",
       "      <td>0.599847</td>\n",
       "    </tr>\n",
       "    <tr>\n",
       "      <th>(70, 80]</th>\n",
       "      <td>2944</td>\n",
       "      <td>1819</td>\n",
       "      <td>0.617867</td>\n",
       "    </tr>\n",
       "    <tr>\n",
       "      <th>(80, 90]</th>\n",
       "      <td>1326</td>\n",
       "      <td>865</td>\n",
       "      <td>0.652338</td>\n",
       "    </tr>\n",
       "    <tr>\n",
       "      <th>(90, 120]</th>\n",
       "      <td>4372</td>\n",
       "      <td>667</td>\n",
       "      <td>0.152562</td>\n",
       "    </tr>\n",
       "  </tbody>\n",
       "</table>\n",
       "</div>"
      ],
      "text/plain": [
       "           num_received  num_completed  conversion_rate\n",
       "age_bin                                                \n",
       "(0, 10]               0              0              NaN\n",
       "(10, 20]            637            244         0.383046\n",
       "(20, 30]           2440           1066         0.436885\n",
       "(30, 40]           2833           1439         0.507942\n",
       "(40, 50]           4309           2448         0.568113\n",
       "(50, 60]           6420           3991         0.621651\n",
       "(60, 70]           5218           3130         0.599847\n",
       "(70, 80]           2944           1819         0.617867\n",
       "(80, 90]           1326            865         0.652338\n",
       "(90, 120]          4372            667         0.152562"
      ]
     },
     "execution_count": 706,
     "metadata": {},
     "output_type": "execute_result"
    },
    {
     "data": {
      "image/png": "[encoded data removed]",
      "text/plain": [
       "<Figure size 720x288 with 2 Axes>"
      ]
     },
     "metadata": {
      "needs_background": "light"
     },
     "output_type": "display_data"
    }
   ],
   "source": [
    "conv_by_age = conversion_by_attr(\"age_bin\")\n",
    "f, axes = plt.subplots(ncols=2, figsize=(10,4))\n",
    "axes[0].barh(y=conv_by_age.index.astype(str), width=conv_by_age[\"conversion_rate\"], color=\"teal\")\n",
    "axes[0].set_title(\"Conversion Rate by Age\")\n",
    "axes[1].barh(y=conv_by_age.index.astype(str), width=conv_by_age[\"num_received\"])\n",
    "axes[1].set_title(\"# of Offers Received by Age\")\n",
    "conv_by_age"
   ]
  },
  {
   "cell_type": "code",
   "execution_count": 712,
   "metadata": {
    "collapsed": false
   },
   "outputs": [
    {
     "name": "stdout",
     "output_type": "stream",
     "text": [
      "118    2175\n",
      "90       52\n",
      "91       47\n",
      "92       40\n",
      "94       33\n",
      "93       29\n",
      "95       22\n",
      "97       13\n",
      "100      12\n",
      "96        8\n",
      "101       5\n",
      "99        5\n",
      "98        5\n",
      "Name: age, dtype: int64\n",
      "(2446, 9)\n"
     ]
    }
   ],
   "source": [
    "print(customers[\"age\"][customers[\"age\"]>=90].value_counts())\n",
    "print(customers[customers[\"age\"]>=90].shape)"
   ]
  },
  {
   "cell_type": "markdown",
   "metadata": {},
   "source": [
    "#### By Income"
   ]
  },
  {
   "cell_type": "markdown",
   "metadata": {},
   "source": [
    "**The higher customers' income is, the more likely customers are to respond to offers** than others in general."
   ]
  },
  {
   "cell_type": "code",
   "execution_count": 707,
   "metadata": {
    "collapsed": false
   },
   "outputs": [
    {
     "data": {
      "text/html": [
       "<div>\n",
       "<style scoped>\n",
       "    .dataframe tbody tr th:only-of-type {\n",
       "        vertical-align: middle;\n",
       "    }\n",
       "\n",
       "    .dataframe tbody tr th {\n",
       "        vertical-align: top;\n",
       "    }\n",
       "\n",
       "    .dataframe thead th {\n",
       "        text-align: right;\n",
       "    }\n",
       "</style>\n",
       "<table border=\"1\" class=\"dataframe\">\n",
       "  <thead>\n",
       "    <tr style=\"text-align: right;\">\n",
       "      <th></th>\n",
       "      <th>num_received</th>\n",
       "      <th>num_completed</th>\n",
       "      <th>conversion_rate</th>\n",
       "    </tr>\n",
       "    <tr>\n",
       "      <th>income_bin</th>\n",
       "      <th></th>\n",
       "      <th></th>\n",
       "      <th></th>\n",
       "    </tr>\n",
       "  </thead>\n",
       "  <tbody>\n",
       "    <tr>\n",
       "      <th>(-120.0, 12000.0]</th>\n",
       "      <td>3962</td>\n",
       "      <td>411</td>\n",
       "      <td>0.103735</td>\n",
       "    </tr>\n",
       "    <tr>\n",
       "      <th>(12000.0, 24000.0]</th>\n",
       "      <td>0</td>\n",
       "      <td>0</td>\n",
       "      <td>NaN</td>\n",
       "    </tr>\n",
       "    <tr>\n",
       "      <th>(24000.0, 36000.0]</th>\n",
       "      <td>2436</td>\n",
       "      <td>891</td>\n",
       "      <td>0.365764</td>\n",
       "    </tr>\n",
       "    <tr>\n",
       "      <th>(36000.0, 48000.0]</th>\n",
       "      <td>4070</td>\n",
       "      <td>1623</td>\n",
       "      <td>0.398771</td>\n",
       "    </tr>\n",
       "    <tr>\n",
       "      <th>(48000.0, 60000.0]</th>\n",
       "      <td>5506</td>\n",
       "      <td>2966</td>\n",
       "      <td>0.538685</td>\n",
       "    </tr>\n",
       "    <tr>\n",
       "      <th>(60000.0, 72000.0]</th>\n",
       "      <td>5219</td>\n",
       "      <td>3039</td>\n",
       "      <td>0.582295</td>\n",
       "    </tr>\n",
       "    <tr>\n",
       "      <th>(72000.0, 84000.0]</th>\n",
       "      <td>3837</td>\n",
       "      <td>2649</td>\n",
       "      <td>0.690383</td>\n",
       "    </tr>\n",
       "    <tr>\n",
       "      <th>(84000.0, 96000.0]</th>\n",
       "      <td>2839</td>\n",
       "      <td>2094</td>\n",
       "      <td>0.737584</td>\n",
       "    </tr>\n",
       "    <tr>\n",
       "      <th>(96000.0, 108000.0]</th>\n",
       "      <td>1538</td>\n",
       "      <td>1174</td>\n",
       "      <td>0.763329</td>\n",
       "    </tr>\n",
       "    <tr>\n",
       "      <th>(108000.0, 120000.0]</th>\n",
       "      <td>1092</td>\n",
       "      <td>822</td>\n",
       "      <td>0.752747</td>\n",
       "    </tr>\n",
       "  </tbody>\n",
       "</table>\n",
       "</div>"
      ],
      "text/plain": [
       "                      num_received  num_completed  conversion_rate\n",
       "income_bin                                                        \n",
       "(-120.0, 12000.0]             3962            411         0.103735\n",
       "(12000.0, 24000.0]               0              0              NaN\n",
       "(24000.0, 36000.0]            2436            891         0.365764\n",
       "(36000.0, 48000.0]            4070           1623         0.398771\n",
       "(48000.0, 60000.0]            5506           2966         0.538685\n",
       "(60000.0, 72000.0]            5219           3039         0.582295\n",
       "(72000.0, 84000.0]            3837           2649         0.690383\n",
       "(84000.0, 96000.0]            2839           2094         0.737584\n",
       "(96000.0, 108000.0]           1538           1174         0.763329\n",
       "(108000.0, 120000.0]          1092            822         0.752747"
      ]
     },
     "execution_count": 707,
     "metadata": {},
     "output_type": "execute_result"
    },
    {
     "data": {
      "image/png": "[encoded data removed]",
      "text/plain": [
       "<Figure size 720x288 with 2 Axes>"
      ]
     },
     "metadata": {
      "needs_background": "light"
     },
     "output_type": "display_data"
    }
   ],
   "source": [
    "conv_by_income = conversion_by_attr(\"income_bin\")\n",
    "f, axes = plt.subplots(ncols=2, figsize=(10,4))\n",
    "axes[0].barh(y=conv_by_income.index.astype(str), width=conv_by_income[\"conversion_rate\"], color=\"teal\")\n",
    "axes[0].set_title(\"Conversion Rate by Income\")\n",
    "axes[1].barh(y=conv_by_income.index.astype(str), width=conv_by_income[\"num_received\"])\n",
    "axes[1].set_title(\"# of Offers Received by Income\")\n",
    "conv_by_income"
   ]
  },
  {
   "cell_type": "markdown",
   "metadata": {},
   "source": [
    "#### By Membership Duration"
   ]
  },
  {
   "cell_type": "markdown",
   "metadata": {},
   "source": [
    "Customers whose **membership duration falls between approximately 1 year to 3 years (365 days to 1094 days)** are more likely to respond to offers than other groups. (**68-71%** vs. **less than 46%**)"
   ]
  },
  {
   "cell_type": "code",
   "execution_count": 708,
   "metadata": {
    "collapsed": false
   },
   "outputs": [
    {
     "data": {
      "text/html": [
       "<div>\n",
       "<style scoped>\n",
       "    .dataframe tbody tr th:only-of-type {\n",
       "        vertical-align: middle;\n",
       "    }\n",
       "\n",
       "    .dataframe tbody tr th {\n",
       "        vertical-align: top;\n",
       "    }\n",
       "\n",
       "    .dataframe thead th {\n",
       "        text-align: right;\n",
       "    }\n",
       "</style>\n",
       "<table border=\"1\" class=\"dataframe\">\n",
       "  <thead>\n",
       "    <tr style=\"text-align: right;\">\n",
       "      <th></th>\n",
       "      <th>num_received</th>\n",
       "      <th>num_completed</th>\n",
       "      <th>conversion_rate</th>\n",
       "    </tr>\n",
       "    <tr>\n",
       "      <th>membership_duration_bin</th>\n",
       "      <th></th>\n",
       "      <th></th>\n",
       "      <th></th>\n",
       "    </tr>\n",
       "  </thead>\n",
       "  <tbody>\n",
       "    <tr>\n",
       "      <th>(-1.823, 182.3]</th>\n",
       "      <td>6359</td>\n",
       "      <td>1960</td>\n",
       "      <td>0.308225</td>\n",
       "    </tr>\n",
       "    <tr>\n",
       "      <th>(182.3, 364.6]</th>\n",
       "      <td>9250</td>\n",
       "      <td>4008</td>\n",
       "      <td>0.433297</td>\n",
       "    </tr>\n",
       "    <tr>\n",
       "      <th>(364.6, 546.9]</th>\n",
       "      <td>3176</td>\n",
       "      <td>2219</td>\n",
       "      <td>0.698678</td>\n",
       "    </tr>\n",
       "    <tr>\n",
       "      <th>(546.9, 729.2]</th>\n",
       "      <td>3010</td>\n",
       "      <td>2144</td>\n",
       "      <td>0.712292</td>\n",
       "    </tr>\n",
       "    <tr>\n",
       "      <th>(729.2, 911.5]</th>\n",
       "      <td>3166</td>\n",
       "      <td>2202</td>\n",
       "      <td>0.695515</td>\n",
       "    </tr>\n",
       "    <tr>\n",
       "      <th>(911.5, 1093.8]</th>\n",
       "      <td>3023</td>\n",
       "      <td>2059</td>\n",
       "      <td>0.681111</td>\n",
       "    </tr>\n",
       "    <tr>\n",
       "      <th>(1093.8, 1276.1]</th>\n",
       "      <td>657</td>\n",
       "      <td>305</td>\n",
       "      <td>0.464231</td>\n",
       "    </tr>\n",
       "    <tr>\n",
       "      <th>(1276.1, 1458.4]</th>\n",
       "      <td>582</td>\n",
       "      <td>228</td>\n",
       "      <td>0.391753</td>\n",
       "    </tr>\n",
       "    <tr>\n",
       "      <th>(1458.4, 1640.7]</th>\n",
       "      <td>637</td>\n",
       "      <td>263</td>\n",
       "      <td>0.412873</td>\n",
       "    </tr>\n",
       "    <tr>\n",
       "      <th>(1640.7, 1823.0]</th>\n",
       "      <td>639</td>\n",
       "      <td>281</td>\n",
       "      <td>0.439750</td>\n",
       "    </tr>\n",
       "  </tbody>\n",
       "</table>\n",
       "</div>"
      ],
      "text/plain": [
       "                         num_received  num_completed  conversion_rate\n",
       "membership_duration_bin                                              \n",
       "(-1.823, 182.3]                  6359           1960         0.308225\n",
       "(182.3, 364.6]                   9250           4008         0.433297\n",
       "(364.6, 546.9]                   3176           2219         0.698678\n",
       "(546.9, 729.2]                   3010           2144         0.712292\n",
       "(729.2, 911.5]                   3166           2202         0.695515\n",
       "(911.5, 1093.8]                  3023           2059         0.681111\n",
       "(1093.8, 1276.1]                  657            305         0.464231\n",
       "(1276.1, 1458.4]                  582            228         0.391753\n",
       "(1458.4, 1640.7]                  637            263         0.412873\n",
       "(1640.7, 1823.0]                  639            281         0.439750"
      ]
     },
     "execution_count": 708,
     "metadata": {},
     "output_type": "execute_result"
    },
    {
     "data": {
      "image/png": "[encoded data removed]",
      "text/plain": [
       "<Figure size 720x288 with 2 Axes>"
      ]
     },
     "metadata": {
      "needs_background": "light"
     },
     "output_type": "display_data"
    }
   ],
   "source": [
    "conv_by_duration = conversion_by_attr(\"membership_duration_bin\")\n",
    "f, axes = plt.subplots(ncols=2, figsize=(10,4))\n",
    "axes[0].barh(y=conv_by_duration.index.astype(str), width=conv_by_duration[\"conversion_rate\"], color=\"teal\")\n",
    "axes[0].set_title(\"Conversion Rate by Membership Duration\")\n",
    "axes[1].barh(y=conv_by_duration.index.astype(str), width=conv_by_duration[\"num_received\"])\n",
    "axes[1].set_title(\"# of Offers Received by Membership Duration\")\n",
    "conv_by_duration"
   ]
  },
  {
   "cell_type": "markdown",
   "metadata": {},
   "source": [
    "### 4.2. Clustering (KMeans)"
   ]
  },
  {
   "cell_type": "markdown",
   "metadata": {},
   "source": [
    "As the second option, we will try clustering with k-means as an unsupervised machine learning approach. The idea is to identify how different groups of customers, who are classified based on their demographics, respond to offers differently."
   ]
  },
  {
   "cell_type": "markdown",
   "metadata": {},
   "source": [
    "### 4.2.1. Data Preparation"
   ]
  },
  {
   "cell_type": "code",
   "execution_count": 580,
   "metadata": {
    "collapsed": false
   },
   "outputs": [
    {
     "name": "stdout",
     "output_type": "stream",
     "text": [
      "   age    income  membership_duration  F  M  O  Unknown\n",
      "0  118       0.0                  529  0  0  0        1\n",
      "1   55  112000.0                  376  1  0  0        0\n",
      "2  118       0.0                   14  0  0  0        1\n",
      "3   75  100000.0                  443  1  0  0        0\n",
      "4  118       0.0                  356  0  0  0        1\n",
      "          0         1         2         3    4    5         6\n",
      "0  0.013308  0.000000  0.006139  0.000000  0.0  0.0  0.021442\n",
      "1  0.006203  0.013355  0.004363  0.012773  0.0  0.0  0.000000\n",
      "2  0.013308  0.000000  0.000162  0.000000  0.0  0.0  0.021442\n",
      "3  0.008458  0.011924  0.005141  0.012773  0.0  0.0  0.000000\n",
      "4  0.013308  0.000000  0.004131  0.000000  0.0  0.0  0.021442\n"
     ]
    }
   ],
   "source": [
    "# Processing features. Numberical attributes are used as they are, while categorical attributes are \n",
    "# converted with one-hot encoding.\n",
    "X = customers[[\"age\", \"income\", \"membership_duration\"]]\n",
    "X = pd.concat([X, pd.get_dummies(customers[\"gender\"])], axis=1)\n",
    "\n",
    "# Normalizing features for clustering\n",
    "X_normalized = Normalizer().fit(X.transpose()).transform(X.transpose()).transpose()\n",
    "\n",
    "print(X.head())\n",
    "print(pd.DataFrame(X_normalized).head())"
   ]
  },
  {
   "cell_type": "markdown",
   "metadata": {},
   "source": [
    "### 4.2.2. Modeling"
   ]
  },
  {
   "cell_type": "code",
   "execution_count": 721,
   "metadata": {
    "collapsed": false
   },
   "outputs": [
    {
     "data": {
      "text/html": [
       "<div>\n",
       "<style scoped>\n",
       "    .dataframe tbody tr th:only-of-type {\n",
       "        vertical-align: middle;\n",
       "    }\n",
       "\n",
       "    .dataframe tbody tr th {\n",
       "        vertical-align: top;\n",
       "    }\n",
       "\n",
       "    .dataframe thead th {\n",
       "        text-align: right;\n",
       "    }\n",
       "</style>\n",
       "<table border=\"1\" class=\"dataframe\">\n",
       "  <thead>\n",
       "    <tr style=\"text-align: right;\">\n",
       "      <th></th>\n",
       "      <th>num_received</th>\n",
       "      <th>num_completed</th>\n",
       "      <th>conversion_rate</th>\n",
       "    </tr>\n",
       "    <tr>\n",
       "      <th>cluster</th>\n",
       "      <th></th>\n",
       "      <th></th>\n",
       "      <th></th>\n",
       "    </tr>\n",
       "  </thead>\n",
       "  <tbody>\n",
       "    <tr>\n",
       "      <th>1</th>\n",
       "      <td>2572</td>\n",
       "      <td>231</td>\n",
       "      <td>0.089813</td>\n",
       "    </tr>\n",
       "    <tr>\n",
       "      <th>9</th>\n",
       "      <td>1390</td>\n",
       "      <td>180</td>\n",
       "      <td>0.129496</td>\n",
       "    </tr>\n",
       "    <tr>\n",
       "      <th>0</th>\n",
       "      <td>6170</td>\n",
       "      <td>1980</td>\n",
       "      <td>0.320908</td>\n",
       "    </tr>\n",
       "    <tr>\n",
       "      <th>3</th>\n",
       "      <td>1638</td>\n",
       "      <td>667</td>\n",
       "      <td>0.407204</td>\n",
       "    </tr>\n",
       "    <tr>\n",
       "      <th>2</th>\n",
       "      <td>3831</td>\n",
       "      <td>2186</td>\n",
       "      <td>0.570608</td>\n",
       "    </tr>\n",
       "    <tr>\n",
       "      <th>8</th>\n",
       "      <td>3524</td>\n",
       "      <td>2059</td>\n",
       "      <td>0.584279</td>\n",
       "    </tr>\n",
       "    <tr>\n",
       "      <th>4</th>\n",
       "      <td>354</td>\n",
       "      <td>245</td>\n",
       "      <td>0.692090</td>\n",
       "    </tr>\n",
       "    <tr>\n",
       "      <th>5</th>\n",
       "      <td>3604</td>\n",
       "      <td>2512</td>\n",
       "      <td>0.697003</td>\n",
       "    </tr>\n",
       "    <tr>\n",
       "      <th>6</th>\n",
       "      <td>3876</td>\n",
       "      <td>2806</td>\n",
       "      <td>0.723942</td>\n",
       "    </tr>\n",
       "    <tr>\n",
       "      <th>7</th>\n",
       "      <td>3540</td>\n",
       "      <td>2803</td>\n",
       "      <td>0.791808</td>\n",
       "    </tr>\n",
       "  </tbody>\n",
       "</table>\n",
       "</div>"
      ],
      "text/plain": [
       "         num_received  num_completed  conversion_rate\n",
       "cluster                                              \n",
       "1                2572            231         0.089813\n",
       "9                1390            180         0.129496\n",
       "0                6170           1980         0.320908\n",
       "3                1638            667         0.407204\n",
       "2                3831           2186         0.570608\n",
       "8                3524           2059         0.584279\n",
       "4                 354            245         0.692090\n",
       "5                3604           2512         0.697003\n",
       "6                3876           2806         0.723942\n",
       "7                3540           2803         0.791808"
      ]
     },
     "execution_count": 721,
     "metadata": {},
     "output_type": "execute_result"
    },
    {
     "data": {
      "image/png": "[encoded data removed]",
      "text/plain": [
       "<Figure size 720x288 with 2 Axes>"
      ]
     },
     "metadata": {
      "needs_background": "light"
     },
     "output_type": "display_data"
    }
   ],
   "source": [
    "# Building clusters with k-means\n",
    "clf = KMeans(n_clusters=10, random_state=42)\n",
    "clf.fit(X_normalized)\n",
    "clusters = clf.predict(X_normalized)\n",
    "\n",
    "# Combining clusters calculated and customer list\n",
    "customers_clustered = pd.concat([customers, pd.Series(clusters, name=\"cluster\")], axis=1)\n",
    "\n",
    "# Aggregating offers by the clusters just calculated\n",
    "conv_by_cluster = conversion_by_attr(\"cluster\", customers=customers_clustered).sort_values(by=\"conversion_rate\")\n",
    "\n",
    "# Visualizing distribution of clusters\n",
    "f, axes = plt.subplots(ncols=2, figsize=(10,4))\n",
    "axes[0].barh(y=conv_by_cluster.index.astype(str), width=conv_by_cluster[\"conversion_rate\"], color=\"teal\")\n",
    "axes[0].set_title(\"Conversion Rate by Cluster\")\n",
    "axes[1].barh(y=conv_by_cluster.index.astype(str), width=conv_by_cluster[\"num_received\"])\n",
    "axes[1].set_title(\"# of Offers Received by Cluster\")\n",
    "conv_by_cluster"
   ]
  },
  {
   "cell_type": "code",
   "execution_count": 722,
   "metadata": {
    "collapsed": false
   },
   "outputs": [
    {
     "data": {
      "text/plain": [
       "<matplotlib.axes._subplots.AxesSubplot at 0x135c201d0>"
      ]
     },
     "execution_count": 722,
     "metadata": {},
     "output_type": "execute_result"
    },
    {
     "data": {
      "image/png": "[encoded data removed]",
      "text/plain": [
       "<Figure size 1440x288 with 4 Axes>"
      ]
     },
     "metadata": {
      "needs_background": "light"
     },
     "output_type": "display_data"
    }
   ],
   "source": [
    "# Sotring clusters by conversion ratio\n",
    "cluster_order = conv_by_cluster.sort_values(\"conversion_rate\", ascending=False).index\n",
    "\n",
    "# Visualizaing how attributes of clusters are distributed\n",
    "f, axes = plt.subplots(ncols=4, figsize=(20,4))\n",
    "sns.boxplot(x=\"age\",y=\"cluster\",data=customers_clustered,orient=\"h\",order=cluster_order, ax=axes[0])\n",
    "sns.boxplot(x=\"income\",y=\"cluster\",data=customers_clustered,orient=\"h\",order=cluster_order, ax=axes[1])\n",
    "sns.boxplot(x=\"membership_duration\",y=\"cluster\",data=customers_clustered,orient=\"h\",order=cluster_order, ax=axes[2])\n",
    "\n",
    "cust_by_cluster_gender = customers_clustered.groupby(by=[\"cluster\",\"gender\"])[\"id\"].count().reset_index()\n",
    "sns.barplot(x=\"id\",y=\"cluster\",hue=\"gender\", data=cust_by_cluster_gender,orient=\"h\",order=cluster_order, ax=axes[3])"
   ]
  },
  {
   "cell_type": "code",
   "execution_count": null,
   "metadata": {
    "collapsed": true
   },
   "outputs": [],
   "source": [
    "customers_clustered[\"age\"].describe"
   ]
  },
  {
   "cell_type": "markdown",
   "metadata": {},
   "source": [
    "Below is description of each cluster:  \n",
    "- **Higher group**:\n",
    " - **Cluster 7(79%):** female customers whose membership duration is around 2 years or longer.\n",
    " - **Cluster 6(72%):** male customers whose membership duration is around 2-4 years.\n",
    " - **Cluster 5(70%):** female customers whose income is at higher range and membership duration is mostly less than 2 years.\n",
    " - **Cluster 4(69%):** customers whose gender is unknown. (only small number of customers belong to this group)\n",
    "- **Middle group**:\n",
    " - **Cluster 8(58%):** male customers with higher income and membership duration is mostly less than 2 years.\n",
    " - **Cluster 2(57%):** female customers whose membership duration is mostly less than 2 years.\n",
    "- **Lower group**:\n",
    " - **Cluster 0(41%):** male customers whose membership duration is more than 3 years.\n",
    " - **Cluster 3(32%):** male customers with lower income and membership duration is mostly less than 2 years.\n",
    " - **Cluster 9(13%):** customers whose gender is unknown and mmebership duration is more than 2 years.\n",
    " - **Cluster 1( 9%):** customers whose gender is unknown and mmebership duration is less than 2 years."
   ]
  },
  {
   "cell_type": "markdown",
   "metadata": {},
   "source": [
    "### 4.3. Decision Tree"
   ]
  },
  {
   "cell_type": "markdown",
   "metadata": {},
   "source": [
    "The third option is building decision tree model."
   ]
  },
  {
   "cell_type": "markdown",
   "metadata": {},
   "source": [
    "### 4.3.1. Data Preparation"
   ]
  },
  {
   "cell_type": "markdown",
   "metadata": {},
   "source": [
    "Note : In building the decision tree model, offers will be aggregated by customer, instead of using it at individual offer level. This is because offers received and offers completed cannot be connected via unique key. In case of multiple offers being received by a single customer, offers are considered as \"completed\" if at least one offer is completed."
   ]
  },
  {
   "cell_type": "code",
   "execution_count": 278,
   "metadata": {
    "collapsed": false
   },
   "outputs": [],
   "source": [
    "# Filtering offers by offer_type\n",
    "offer_type = \"bogo\"\n",
    "offers_filtered = offers[offers[\"offer_type\"]==offer_type]\n",
    "offers_received_filtered = pd.merge(offers_received, offers_filtered, left_on=\"offer id\", right_on=\"id\")\n",
    "offers_completed_filtered = pd.merge(offers_completed, offers_filtered, left_on=\"offer id\", right_on=\"id\")\n",
    "\n",
    "# Series of customer id who completed at least one BOGO offer\n",
    "customer_id_completed = offers_completed_filtered.groupby(by=\"person\").all().index\n",
    "\n",
    "# Identify if customer completed offer and get boolean series\n",
    "y = customers[\"id\"].agg(lambda i: i in customer_id_completed)\n"
   ]
  },
  {
   "cell_type": "markdown",
   "metadata": {},
   "source": [
    "### 4.3.2. Modeling"
   ]
  },
  {
   "cell_type": "code",
   "execution_count": 728,
   "metadata": {
    "collapsed": false
   },
   "outputs": [
    {
     "name": "stderr",
     "output_type": "stream",
     "text": [
      "Warning: <stdin>: syntax error in line 1 near 'None'\n"
     ]
    },
    {
     "data": {
      "image/svg+xml": [],
      "text/plain": [
       "<graphviz.files.Source at 0x135df0b10>"
      ]
     },
     "execution_count": 728,
     "metadata": {},
     "output_type": "execute_result"
    }
   ],
   "source": [
    "# Building decision tree model\n",
    "dtc = DecisionTreeClassifier(max_depth=5,min_samples_leaf=0.05, random_state=42)\n",
    "dtc.fit(X, y)\n",
    "\n",
    "# Visualizing decision tree\n",
    "dot_data = export_graphviz(\n",
    "    dtc,\n",
    "    out_file=\"tree.dot\",\n",
    "    feature_names=X.columns,\n",
    "    class_names=[\"not completed\",\"completed\"],\n",
    "    filled=True,\n",
    "    proportion=True,\n",
    "    node_ids=True)\n",
    "graphviz.Source(dot_data)"
   ]
  },
  {
   "cell_type": "markdown",
   "metadata": {},
   "source": [
    "Generating description of each leaf nodes."
   ]
  },
  {
   "cell_type": "code",
   "execution_count": 648,
   "metadata": {
    "collapsed": false
   },
   "outputs": [],
   "source": [
    "# getting leaf nodes\n",
    "# Reference URL https://qiita.com/kotaRof/items/c478a5ae4c2f70148bf4\n",
    "leaf_nodes = []\n",
    "for node_id in range(dtc.tree_.node_count):\n",
    "    if dtc.tree_.children_left[node_id] < 0 and dtc.tree_.children_right[node_id] <0:\n",
    "        leaf_nodes.append(node_id)\n",
    "\n",
    "# Creating a DataFrame which describes structure of decision tree\n",
    "nodes = pd.DataFrame(index=range(dtc.tree_.node_count))\n",
    "nodes[\"feature\"] = dtc.tree_.feature\n",
    "nodes[\"threshold\"] = dtc.tree_.threshold\n",
    "nodes[\"value0\"] = dtc.tree_.value[:,0,0]\n",
    "nodes[\"value1\"] = dtc.tree_.value[:,0,1]\n",
    "nodes[\"children_left\"] = dtc.tree_.children_left\n",
    "nodes[\"children_right\"] = dtc.tree_.children_right\n",
    "nodes[\"n_node_samples\"] = dtc.tree_.n_node_samples\n",
    "nodes[\"conversion_rate\"] = nodes[\"value1\"]/(nodes[\"value1\"] + nodes[\"value0\"])\n",
    "nodes[\"is_leaf\"] = [nodes.loc[i][\"children_left\"] < 0 and nodes.loc[i][\"children_right\"] < 0 for i in nodes.index]\n",
    "# nodes[\"description\"] = None"
   ]
  },
  {
   "cell_type": "code",
   "execution_count": 649,
   "metadata": {
    "collapsed": false
   },
   "outputs": [
    {
     "data": {
      "text/html": [
       "<div>\n",
       "<style scoped>\n",
       "    .dataframe tbody tr th:only-of-type {\n",
       "        vertical-align: middle;\n",
       "    }\n",
       "\n",
       "    .dataframe tbody tr th {\n",
       "        vertical-align: top;\n",
       "    }\n",
       "\n",
       "    .dataframe thead th {\n",
       "        text-align: right;\n",
       "    }\n",
       "</style>\n",
       "<table border=\"1\" class=\"dataframe\">\n",
       "  <thead>\n",
       "    <tr style=\"text-align: right;\">\n",
       "      <th></th>\n",
       "      <th>feature</th>\n",
       "      <th>threshold</th>\n",
       "      <th>value0</th>\n",
       "      <th>value1</th>\n",
       "      <th>children_left</th>\n",
       "      <th>children_right</th>\n",
       "      <th>n_node_samples</th>\n",
       "      <th>conversion_rate</th>\n",
       "      <th>is_leaf</th>\n",
       "    </tr>\n",
       "  </thead>\n",
       "  <tbody>\n",
       "    <tr>\n",
       "      <th>0</th>\n",
       "      <td>1</td>\n",
       "      <td>49500.0</td>\n",
       "      <td>7737.0</td>\n",
       "      <td>9263.0</td>\n",
       "      <td>1</td>\n",
       "      <td>10</td>\n",
       "      <td>17000</td>\n",
       "      <td>0.544882</td>\n",
       "      <td>False</td>\n",
       "    </tr>\n",
       "    <tr>\n",
       "      <th>1</th>\n",
       "      <td>1</td>\n",
       "      <td>15000.0</td>\n",
       "      <td>3951.0</td>\n",
       "      <td>2005.0</td>\n",
       "      <td>2</td>\n",
       "      <td>5</td>\n",
       "      <td>5956</td>\n",
       "      <td>0.336635</td>\n",
       "      <td>False</td>\n",
       "    </tr>\n",
       "    <tr>\n",
       "      <th>2</th>\n",
       "      <td>2</td>\n",
       "      <td>330.5</td>\n",
       "      <td>1826.0</td>\n",
       "      <td>349.0</td>\n",
       "      <td>3</td>\n",
       "      <td>4</td>\n",
       "      <td>2175</td>\n",
       "      <td>0.160460</td>\n",
       "      <td>False</td>\n",
       "    </tr>\n",
       "    <tr>\n",
       "      <th>3</th>\n",
       "      <td>-2</td>\n",
       "      <td>-2.0</td>\n",
       "      <td>877.0</td>\n",
       "      <td>99.0</td>\n",
       "      <td>-1</td>\n",
       "      <td>-1</td>\n",
       "      <td>976</td>\n",
       "      <td>0.101434</td>\n",
       "      <td>True</td>\n",
       "    </tr>\n",
       "    <tr>\n",
       "      <th>4</th>\n",
       "      <td>-2</td>\n",
       "      <td>-2.0</td>\n",
       "      <td>949.0</td>\n",
       "      <td>250.0</td>\n",
       "      <td>-1</td>\n",
       "      <td>-1</td>\n",
       "      <td>1199</td>\n",
       "      <td>0.208507</td>\n",
       "      <td>True</td>\n",
       "    </tr>\n",
       "  </tbody>\n",
       "</table>\n",
       "</div>"
      ],
      "text/plain": [
       "   feature  threshold  value0  value1  children_left  children_right  \\\n",
       "0        1    49500.0  7737.0  9263.0              1              10   \n",
       "1        1    15000.0  3951.0  2005.0              2               5   \n",
       "2        2      330.5  1826.0   349.0              3               4   \n",
       "3       -2       -2.0   877.0    99.0             -1              -1   \n",
       "4       -2       -2.0   949.0   250.0             -1              -1   \n",
       "\n",
       "   n_node_samples  conversion_rate  is_leaf  \n",
       "0           17000         0.544882    False  \n",
       "1            5956         0.336635    False  \n",
       "2            2175         0.160460    False  \n",
       "3             976         0.101434     True  \n",
       "4            1199         0.208507     True  "
      ]
     },
     "execution_count": 649,
     "metadata": {},
     "output_type": "execute_result"
    }
   ],
   "source": [
    "nodes.head()"
   ]
  },
  {
   "cell_type": "code",
   "execution_count": 650,
   "metadata": {
    "collapsed": false
   },
   "outputs": [
    {
     "data": {
      "text/html": [
       "<div>\n",
       "<style scoped>\n",
       "    .dataframe tbody tr th:only-of-type {\n",
       "        vertical-align: middle;\n",
       "    }\n",
       "\n",
       "    .dataframe tbody tr th {\n",
       "        vertical-align: top;\n",
       "    }\n",
       "\n",
       "    .dataframe thead th {\n",
       "        text-align: right;\n",
       "    }\n",
       "</style>\n",
       "<table border=\"1\" class=\"dataframe\">\n",
       "  <thead>\n",
       "    <tr style=\"text-align: right;\">\n",
       "      <th></th>\n",
       "      <th>feature</th>\n",
       "      <th>threshold</th>\n",
       "      <th>value0</th>\n",
       "      <th>value1</th>\n",
       "      <th>children_left</th>\n",
       "      <th>children_right</th>\n",
       "      <th>n_node_samples</th>\n",
       "      <th>conversion_rate</th>\n",
       "      <th>is_leaf</th>\n",
       "    </tr>\n",
       "  </thead>\n",
       "  <tbody>\n",
       "    <tr>\n",
       "      <th>26</th>\n",
       "      <td>-2</td>\n",
       "      <td>-2.0</td>\n",
       "      <td>252.0</td>\n",
       "      <td>1266.0</td>\n",
       "      <td>-1</td>\n",
       "      <td>-1</td>\n",
       "      <td>1518</td>\n",
       "      <td>0.833992</td>\n",
       "      <td>True</td>\n",
       "    </tr>\n",
       "    <tr>\n",
       "      <th>27</th>\n",
       "      <td>-2</td>\n",
       "      <td>-2.0</td>\n",
       "      <td>288.0</td>\n",
       "      <td>1203.0</td>\n",
       "      <td>-1</td>\n",
       "      <td>-1</td>\n",
       "      <td>1491</td>\n",
       "      <td>0.806841</td>\n",
       "      <td>True</td>\n",
       "    </tr>\n",
       "    <tr>\n",
       "      <th>24</th>\n",
       "      <td>-2</td>\n",
       "      <td>-2.0</td>\n",
       "      <td>210.0</td>\n",
       "      <td>730.0</td>\n",
       "      <td>-1</td>\n",
       "      <td>-1</td>\n",
       "      <td>940</td>\n",
       "      <td>0.776596</td>\n",
       "      <td>True</td>\n",
       "    </tr>\n",
       "    <tr>\n",
       "      <th>23</th>\n",
       "      <td>-2</td>\n",
       "      <td>-2.0</td>\n",
       "      <td>211.0</td>\n",
       "      <td>646.0</td>\n",
       "      <td>-1</td>\n",
       "      <td>-1</td>\n",
       "      <td>857</td>\n",
       "      <td>0.753792</td>\n",
       "      <td>True</td>\n",
       "    </tr>\n",
       "    <tr>\n",
       "      <th>19</th>\n",
       "      <td>-2</td>\n",
       "      <td>-2.0</td>\n",
       "      <td>260.0</td>\n",
       "      <td>606.0</td>\n",
       "      <td>-1</td>\n",
       "      <td>-1</td>\n",
       "      <td>866</td>\n",
       "      <td>0.699769</td>\n",
       "      <td>True</td>\n",
       "    </tr>\n",
       "    <tr>\n",
       "      <th>18</th>\n",
       "      <td>-2</td>\n",
       "      <td>-2.0</td>\n",
       "      <td>341.0</td>\n",
       "      <td>576.0</td>\n",
       "      <td>-1</td>\n",
       "      <td>-1</td>\n",
       "      <td>917</td>\n",
       "      <td>0.628135</td>\n",
       "      <td>True</td>\n",
       "    </tr>\n",
       "    <tr>\n",
       "      <th>28</th>\n",
       "      <td>-2</td>\n",
       "      <td>-2.0</td>\n",
       "      <td>328.0</td>\n",
       "      <td>553.0</td>\n",
       "      <td>-1</td>\n",
       "      <td>-1</td>\n",
       "      <td>881</td>\n",
       "      <td>0.627696</td>\n",
       "      <td>True</td>\n",
       "    </tr>\n",
       "    <tr>\n",
       "      <th>13</th>\n",
       "      <td>-2</td>\n",
       "      <td>-2.0</td>\n",
       "      <td>596.0</td>\n",
       "      <td>769.0</td>\n",
       "      <td>-1</td>\n",
       "      <td>-1</td>\n",
       "      <td>1365</td>\n",
       "      <td>0.563370</td>\n",
       "      <td>True</td>\n",
       "    </tr>\n",
       "    <tr>\n",
       "      <th>9</th>\n",
       "      <td>-2</td>\n",
       "      <td>-2.0</td>\n",
       "      <td>681.0</td>\n",
       "      <td>871.0</td>\n",
       "      <td>-1</td>\n",
       "      <td>-1</td>\n",
       "      <td>1552</td>\n",
       "      <td>0.561211</td>\n",
       "      <td>True</td>\n",
       "    </tr>\n",
       "    <tr>\n",
       "      <th>16</th>\n",
       "      <td>-2</td>\n",
       "      <td>-2.0</td>\n",
       "      <td>581.0</td>\n",
       "      <td>502.0</td>\n",
       "      <td>-1</td>\n",
       "      <td>-1</td>\n",
       "      <td>1083</td>\n",
       "      <td>0.463527</td>\n",
       "      <td>True</td>\n",
       "    </tr>\n",
       "    <tr>\n",
       "      <th>8</th>\n",
       "      <td>-2</td>\n",
       "      <td>-2.0</td>\n",
       "      <td>822.0</td>\n",
       "      <td>526.0</td>\n",
       "      <td>-1</td>\n",
       "      <td>-1</td>\n",
       "      <td>1348</td>\n",
       "      <td>0.390208</td>\n",
       "      <td>True</td>\n",
       "    </tr>\n",
       "    <tr>\n",
       "      <th>15</th>\n",
       "      <td>-2</td>\n",
       "      <td>-2.0</td>\n",
       "      <td>719.0</td>\n",
       "      <td>407.0</td>\n",
       "      <td>-1</td>\n",
       "      <td>-1</td>\n",
       "      <td>1126</td>\n",
       "      <td>0.361456</td>\n",
       "      <td>True</td>\n",
       "    </tr>\n",
       "    <tr>\n",
       "      <th>7</th>\n",
       "      <td>-2</td>\n",
       "      <td>-2.0</td>\n",
       "      <td>622.0</td>\n",
       "      <td>259.0</td>\n",
       "      <td>-1</td>\n",
       "      <td>-1</td>\n",
       "      <td>881</td>\n",
       "      <td>0.293984</td>\n",
       "      <td>True</td>\n",
       "    </tr>\n",
       "    <tr>\n",
       "      <th>4</th>\n",
       "      <td>-2</td>\n",
       "      <td>-2.0</td>\n",
       "      <td>949.0</td>\n",
       "      <td>250.0</td>\n",
       "      <td>-1</td>\n",
       "      <td>-1</td>\n",
       "      <td>1199</td>\n",
       "      <td>0.208507</td>\n",
       "      <td>True</td>\n",
       "    </tr>\n",
       "    <tr>\n",
       "      <th>3</th>\n",
       "      <td>-2</td>\n",
       "      <td>-2.0</td>\n",
       "      <td>877.0</td>\n",
       "      <td>99.0</td>\n",
       "      <td>-1</td>\n",
       "      <td>-1</td>\n",
       "      <td>976</td>\n",
       "      <td>0.101434</td>\n",
       "      <td>True</td>\n",
       "    </tr>\n",
       "  </tbody>\n",
       "</table>\n",
       "</div>"
      ],
      "text/plain": [
       "    feature  threshold  value0  value1  children_left  children_right  \\\n",
       "26       -2       -2.0   252.0  1266.0             -1              -1   \n",
       "27       -2       -2.0   288.0  1203.0             -1              -1   \n",
       "24       -2       -2.0   210.0   730.0             -1              -1   \n",
       "23       -2       -2.0   211.0   646.0             -1              -1   \n",
       "19       -2       -2.0   260.0   606.0             -1              -1   \n",
       "18       -2       -2.0   341.0   576.0             -1              -1   \n",
       "28       -2       -2.0   328.0   553.0             -1              -1   \n",
       "13       -2       -2.0   596.0   769.0             -1              -1   \n",
       "9        -2       -2.0   681.0   871.0             -1              -1   \n",
       "16       -2       -2.0   581.0   502.0             -1              -1   \n",
       "8        -2       -2.0   822.0   526.0             -1              -1   \n",
       "15       -2       -2.0   719.0   407.0             -1              -1   \n",
       "7        -2       -2.0   622.0   259.0             -1              -1   \n",
       "4        -2       -2.0   949.0   250.0             -1              -1   \n",
       "3        -2       -2.0   877.0    99.0             -1              -1   \n",
       "\n",
       "    n_node_samples  conversion_rate  is_leaf  \n",
       "26            1518         0.833992     True  \n",
       "27            1491         0.806841     True  \n",
       "24             940         0.776596     True  \n",
       "23             857         0.753792     True  \n",
       "19             866         0.699769     True  \n",
       "18             917         0.628135     True  \n",
       "28             881         0.627696     True  \n",
       "13            1365         0.563370     True  \n",
       "9             1552         0.561211     True  \n",
       "16            1083         0.463527     True  \n",
       "8             1348         0.390208     True  \n",
       "15            1126         0.361456     True  \n",
       "7              881         0.293984     True  \n",
       "4             1199         0.208507     True  \n",
       "3              976         0.101434     True  "
      ]
     },
     "execution_count": 650,
     "metadata": {},
     "output_type": "execute_result"
    }
   ],
   "source": [
    "nodes[nodes[\"is_leaf\"]].sort_values(\"conversion_rate\",ascending=False)"
   ]
  },
  {
   "cell_type": "markdown",
   "metadata": {},
   "source": [
    "Top and bottom of groups are as follows:\n",
    "- **Higher group** (conversion rate > 70%) #26,#27,#24,#23:\n",
    " - #21(#23,#24,#26,#27):conversion rate is **80.0%**:Income is more than 49,500 and membership duration is between 364.5 and 1,099.5\n",
    "- **Lower group** (conversion rate < 40%) #8,#15,#7,#4,#3:\n",
    " - #2(#3,#4):conversion rate is **16.0%**:Income is less than 15,000\n",
    " - #6(#7,#8):conversion rate is **35.2%**:Income is between 15,000 and 49,500 and membership duration is less than 366.5\n",
    " - #15:**36.1%**:Income is between 49,500 and 76,500 and membership duration is less than 203.5 and gender is not male (female, others and unknown)"
   ]
  },
  {
   "cell_type": "markdown",
   "metadata": {},
   "source": [
    "While we focused on **BOGO** offer above, we could apply the same approach to explore the most and least responsive customers for **Discount** offers."
   ]
  },
  {
   "cell_type": "markdown",
   "metadata": {},
   "source": [
    "## 5. How best to present each type of offer?"
   ]
  },
  {
   "cell_type": "markdown",
   "metadata": {},
   "source": [
    "In order to present offers to customers effectively, we should send each type of offer to customers who like it. In other words, we should send each type of offer to **customers who are very likely to respond** to the offer.  \n",
    "To achieve the goal, we will build **machine learning models which predict probability of customers completing offers**.  \n",
    "\n",
    "We will try algorithms for supervised learning of binary classification such as **Logistic Regression**, **Decision Tree**, **Random Forest** etc. Again, we will focus on **BOGO** offers for now."
   ]
  },
  {
   "cell_type": "markdown",
   "metadata": {},
   "source": [
    "### 5.1. Data Preparation"
   ]
  },
  {
   "cell_type": "markdown",
   "metadata": {},
   "source": [
    "We will build one-hot-encoded explanatory variables for some of algorithms."
   ]
  },
  {
   "cell_type": "code",
   "execution_count": 410,
   "metadata": {
    "collapsed": false
   },
   "outputs": [
    {
     "data": {
      "text/html": [
       "<div>\n",
       "<style scoped>\n",
       "    .dataframe tbody tr th:only-of-type {\n",
       "        vertical-align: middle;\n",
       "    }\n",
       "\n",
       "    .dataframe tbody tr th {\n",
       "        vertical-align: top;\n",
       "    }\n",
       "\n",
       "    .dataframe thead th {\n",
       "        text-align: right;\n",
       "    }\n",
       "</style>\n",
       "<table border=\"1\" class=\"dataframe\">\n",
       "  <thead>\n",
       "    <tr style=\"text-align: right;\">\n",
       "      <th></th>\n",
       "      <th>gender_F</th>\n",
       "      <th>gender_M</th>\n",
       "      <th>gender_O</th>\n",
       "      <th>gender_Unknown</th>\n",
       "      <th>age_bin_(0, 10]</th>\n",
       "      <th>age_bin_(10, 20]</th>\n",
       "      <th>age_bin_(20, 30]</th>\n",
       "      <th>age_bin_(30, 40]</th>\n",
       "      <th>age_bin_(40, 50]</th>\n",
       "      <th>age_bin_(50, 60]</th>\n",
       "      <th>...</th>\n",
       "      <th>membership_duration_bin_(-1.823, 182.3]</th>\n",
       "      <th>membership_duration_bin_(182.3, 364.6]</th>\n",
       "      <th>membership_duration_bin_(364.6, 546.9]</th>\n",
       "      <th>membership_duration_bin_(546.9, 729.2]</th>\n",
       "      <th>membership_duration_bin_(729.2, 911.5]</th>\n",
       "      <th>membership_duration_bin_(911.5, 1093.8]</th>\n",
       "      <th>membership_duration_bin_(1093.8, 1276.1]</th>\n",
       "      <th>membership_duration_bin_(1276.1, 1458.4]</th>\n",
       "      <th>membership_duration_bin_(1458.4, 1640.7]</th>\n",
       "      <th>membership_duration_bin_(1640.7, 1823.0]</th>\n",
       "    </tr>\n",
       "  </thead>\n",
       "  <tbody>\n",
       "    <tr>\n",
       "      <th>0</th>\n",
       "      <td>0</td>\n",
       "      <td>0</td>\n",
       "      <td>0</td>\n",
       "      <td>1</td>\n",
       "      <td>0</td>\n",
       "      <td>0</td>\n",
       "      <td>0</td>\n",
       "      <td>0</td>\n",
       "      <td>0</td>\n",
       "      <td>0</td>\n",
       "      <td>...</td>\n",
       "      <td>0</td>\n",
       "      <td>0</td>\n",
       "      <td>1</td>\n",
       "      <td>0</td>\n",
       "      <td>0</td>\n",
       "      <td>0</td>\n",
       "      <td>0</td>\n",
       "      <td>0</td>\n",
       "      <td>0</td>\n",
       "      <td>0</td>\n",
       "    </tr>\n",
       "    <tr>\n",
       "      <th>1</th>\n",
       "      <td>1</td>\n",
       "      <td>0</td>\n",
       "      <td>0</td>\n",
       "      <td>0</td>\n",
       "      <td>0</td>\n",
       "      <td>0</td>\n",
       "      <td>0</td>\n",
       "      <td>0</td>\n",
       "      <td>0</td>\n",
       "      <td>1</td>\n",
       "      <td>...</td>\n",
       "      <td>0</td>\n",
       "      <td>0</td>\n",
       "      <td>1</td>\n",
       "      <td>0</td>\n",
       "      <td>0</td>\n",
       "      <td>0</td>\n",
       "      <td>0</td>\n",
       "      <td>0</td>\n",
       "      <td>0</td>\n",
       "      <td>0</td>\n",
       "    </tr>\n",
       "    <tr>\n",
       "      <th>2</th>\n",
       "      <td>0</td>\n",
       "      <td>0</td>\n",
       "      <td>0</td>\n",
       "      <td>1</td>\n",
       "      <td>0</td>\n",
       "      <td>0</td>\n",
       "      <td>0</td>\n",
       "      <td>0</td>\n",
       "      <td>0</td>\n",
       "      <td>0</td>\n",
       "      <td>...</td>\n",
       "      <td>1</td>\n",
       "      <td>0</td>\n",
       "      <td>0</td>\n",
       "      <td>0</td>\n",
       "      <td>0</td>\n",
       "      <td>0</td>\n",
       "      <td>0</td>\n",
       "      <td>0</td>\n",
       "      <td>0</td>\n",
       "      <td>0</td>\n",
       "    </tr>\n",
       "    <tr>\n",
       "      <th>3</th>\n",
       "      <td>1</td>\n",
       "      <td>0</td>\n",
       "      <td>0</td>\n",
       "      <td>0</td>\n",
       "      <td>0</td>\n",
       "      <td>0</td>\n",
       "      <td>0</td>\n",
       "      <td>0</td>\n",
       "      <td>0</td>\n",
       "      <td>0</td>\n",
       "      <td>...</td>\n",
       "      <td>0</td>\n",
       "      <td>0</td>\n",
       "      <td>1</td>\n",
       "      <td>0</td>\n",
       "      <td>0</td>\n",
       "      <td>0</td>\n",
       "      <td>0</td>\n",
       "      <td>0</td>\n",
       "      <td>0</td>\n",
       "      <td>0</td>\n",
       "    </tr>\n",
       "    <tr>\n",
       "      <th>4</th>\n",
       "      <td>0</td>\n",
       "      <td>0</td>\n",
       "      <td>0</td>\n",
       "      <td>1</td>\n",
       "      <td>0</td>\n",
       "      <td>0</td>\n",
       "      <td>0</td>\n",
       "      <td>0</td>\n",
       "      <td>0</td>\n",
       "      <td>0</td>\n",
       "      <td>...</td>\n",
       "      <td>0</td>\n",
       "      <td>1</td>\n",
       "      <td>0</td>\n",
       "      <td>0</td>\n",
       "      <td>0</td>\n",
       "      <td>0</td>\n",
       "      <td>0</td>\n",
       "      <td>0</td>\n",
       "      <td>0</td>\n",
       "      <td>0</td>\n",
       "    </tr>\n",
       "  </tbody>\n",
       "</table>\n",
       "<p>5 rows × 34 columns</p>\n",
       "</div>"
      ],
      "text/plain": [
       "   gender_F  gender_M  gender_O  gender_Unknown  age_bin_(0, 10]  \\\n",
       "0         0         0         0               1                0   \n",
       "1         1         0         0               0                0   \n",
       "2         0         0         0               1                0   \n",
       "3         1         0         0               0                0   \n",
       "4         0         0         0               1                0   \n",
       "\n",
       "   age_bin_(10, 20]  age_bin_(20, 30]  age_bin_(30, 40]  age_bin_(40, 50]  \\\n",
       "0                 0                 0                 0                 0   \n",
       "1                 0                 0                 0                 0   \n",
       "2                 0                 0                 0                 0   \n",
       "3                 0                 0                 0                 0   \n",
       "4                 0                 0                 0                 0   \n",
       "\n",
       "   age_bin_(50, 60]  ...  membership_duration_bin_(-1.823, 182.3]  \\\n",
       "0                 0  ...                                        0   \n",
       "1                 1  ...                                        0   \n",
       "2                 0  ...                                        1   \n",
       "3                 0  ...                                        0   \n",
       "4                 0  ...                                        0   \n",
       "\n",
       "   membership_duration_bin_(182.3, 364.6]  \\\n",
       "0                                       0   \n",
       "1                                       0   \n",
       "2                                       0   \n",
       "3                                       0   \n",
       "4                                       1   \n",
       "\n",
       "   membership_duration_bin_(364.6, 546.9]  \\\n",
       "0                                       1   \n",
       "1                                       1   \n",
       "2                                       0   \n",
       "3                                       1   \n",
       "4                                       0   \n",
       "\n",
       "   membership_duration_bin_(546.9, 729.2]  \\\n",
       "0                                       0   \n",
       "1                                       0   \n",
       "2                                       0   \n",
       "3                                       0   \n",
       "4                                       0   \n",
       "\n",
       "   membership_duration_bin_(729.2, 911.5]  \\\n",
       "0                                       0   \n",
       "1                                       0   \n",
       "2                                       0   \n",
       "3                                       0   \n",
       "4                                       0   \n",
       "\n",
       "   membership_duration_bin_(911.5, 1093.8]  \\\n",
       "0                                        0   \n",
       "1                                        0   \n",
       "2                                        0   \n",
       "3                                        0   \n",
       "4                                        0   \n",
       "\n",
       "   membership_duration_bin_(1093.8, 1276.1]  \\\n",
       "0                                         0   \n",
       "1                                         0   \n",
       "2                                         0   \n",
       "3                                         0   \n",
       "4                                         0   \n",
       "\n",
       "   membership_duration_bin_(1276.1, 1458.4]  \\\n",
       "0                                         0   \n",
       "1                                         0   \n",
       "2                                         0   \n",
       "3                                         0   \n",
       "4                                         0   \n",
       "\n",
       "   membership_duration_bin_(1458.4, 1640.7]  \\\n",
       "0                                         0   \n",
       "1                                         0   \n",
       "2                                         0   \n",
       "3                                         0   \n",
       "4                                         0   \n",
       "\n",
       "   membership_duration_bin_(1640.7, 1823.0]  \n",
       "0                                         0  \n",
       "1                                         0  \n",
       "2                                         0  \n",
       "3                                         0  \n",
       "4                                         0  \n",
       "\n",
       "[5 rows x 34 columns]"
      ]
     },
     "execution_count": 410,
     "metadata": {},
     "output_type": "execute_result"
    }
   ],
   "source": [
    "# Generating X with one-hot-encoding\n",
    "X_onehot = pd.get_dummies(customers[[\"gender\", \"age_bin\", \"income_bin\", \"membership_duration_bin\"]])\n",
    "X_onehot.head()"
   ]
  },
  {
   "cell_type": "markdown",
   "metadata": {},
   "source": [
    "### 5.2. Modeling"
   ]
  },
  {
   "cell_type": "markdown",
   "metadata": {},
   "source": [
    "#### 5.2.1. Logistic Regression"
   ]
  },
  {
   "cell_type": "code",
   "execution_count": 741,
   "metadata": {
    "collapsed": false
   },
   "outputs": [
    {
     "name": "stdout",
     "output_type": "stream",
     "text": [
      "GridSearchCV(cv=5, error_score='raise-deprecating',\n",
      "             estimator=LogisticRegression(C=1.0, class_weight=None, dual=False,\n",
      "                                          fit_intercept=True,\n",
      "                                          intercept_scaling=1, l1_ratio=None,\n",
      "                                          max_iter=100, multi_class='warn',\n",
      "                                          n_jobs=None, penalty='l2',\n",
      "                                          random_state=42, solver='warn',\n",
      "                                          tol=0.0001, verbose=0,\n",
      "                                          warm_start=False),\n",
      "             iid='warn', n_jobs=None,\n",
      "             param_grid={'dual': [False], 'penalty': ['l2'],\n",
      "                         'solver': ['newton-cg', 'lbfgs', 'liblinear', 'sag',\n",
      "                                    'saga']},\n",
      "             pre_dispatch='2*n_jobs', refit=True, return_train_score=False,\n",
      "             scoring=None, verbose=0)\n",
      "[0.69744193 0.70626286 0.69558824 0.70167696 0.68902618]\n",
      "0.6979992351973693\n"
     ]
    }
   ],
   "source": [
    "# Building a model with one-hot variables\n",
    "param_grid = {\n",
    "    \"penalty\":[\"l2\"],\n",
    "    \"dual\":[False],\n",
    "    \"solver\":[\"newton-cg\",\"lbfgs\",\"liblinear\",\"sag\",\"saga\"]\n",
    "}\n",
    "estimator = LogisticRegression(random_state=42)\n",
    "search = GridSearchCV(estimator=estimator, param_grid=param_grid, cv=5)\n",
    "search.fit(X_onehot,y)\n",
    "print(search)\n",
    "\n",
    "# Getting accuracy of the model\n",
    "print(cv_results[\"test_score\"])\n",
    "print(np.mean(cv_results[\"test_score\"]))"
   ]
  },
  {
   "cell_type": "markdown",
   "metadata": {},
   "source": [
    "#### 5.2.1. Decision Tree"
   ]
  },
  {
   "cell_type": "code",
   "execution_count": 730,
   "metadata": {
    "collapsed": false
   },
   "outputs": [
    {
     "name": "stdout",
     "output_type": "stream",
     "text": [
      "GridSearchCV(cv=5, error_score='raise-deprecating',\n",
      "             estimator=DecisionTreeClassifier(class_weight=None,\n",
      "                                              criterion='gini', max_depth=None,\n",
      "                                              max_features=None,\n",
      "                                              max_leaf_nodes=None,\n",
      "                                              min_impurity_decrease=0.0,\n",
      "                                              min_impurity_split=None,\n",
      "                                              min_samples_leaf=1,\n",
      "                                              min_samples_split=2,\n",
      "                                              min_weight_fraction_leaf=0.0,\n",
      "                                              presort=False, random_state=42,\n",
      "                                              splitter='best'),\n",
      "             iid='warn', n_jobs=None,\n",
      "             param_grid={'criterion': ['gini', 'entropy'],\n",
      "                         'max_depth': [3, 4, 5, 6],\n",
      "                         'min_samples_leaf': [0.01, 0.05]},\n",
      "             pre_dispatch='2*n_jobs', refit=True, return_train_score=False,\n",
      "             scoring=None, verbose=0)\n",
      "[0.68305882 0.68305882 0.70182353 0.69317647 0.70241176 0.69317647\n",
      " 0.69852941 0.69317647 0.68294118 0.68294118 0.70076471 0.69211765\n",
      " 0.70264706 0.69170588 0.69876471 0.69170588]\n",
      "0.7026470588235294\n"
     ]
    }
   ],
   "source": [
    "# Building a model\n",
    "param_grid = {\n",
    "    \"criterion\":[\"gini\",\"entropy\"],\n",
    "    \"max_depth\":[3,4,5,6],\n",
    "    \"min_samples_leaf\":[0.01,0.05]}\n",
    "estimator = DecisionTreeClassifier(random_state=42)\n",
    "search = GridSearchCV(estimator=estimator, param_grid=param_grid, cv=5)\n",
    "search.fit(X,y)\n",
    "print(search)\n",
    "\n",
    "# Evaluating results\n",
    "print(search.cv_results_[\"mean_test_score\"])\n",
    "print(np.max(search.cv_results_[\"mean_test_score\"]))"
   ]
  },
  {
   "cell_type": "markdown",
   "metadata": {},
   "source": [
    "#### 5.2.2. Random Forrest"
   ]
  },
  {
   "cell_type": "code",
   "execution_count": 731,
   "metadata": {
    "collapsed": false
   },
   "outputs": [
    {
     "name": "stdout",
     "output_type": "stream",
     "text": [
      "GridSearchCV(cv=5, error_score='raise-deprecating',\n",
      "             estimator=RandomForestClassifier(bootstrap=True, class_weight=None,\n",
      "                                              criterion='gini', max_depth=None,\n",
      "                                              max_features='auto',\n",
      "                                              max_leaf_nodes=None,\n",
      "                                              min_impurity_decrease=0.0,\n",
      "                                              min_impurity_split=None,\n",
      "                                              min_samples_leaf=1,\n",
      "                                              min_samples_split=2,\n",
      "                                              min_weight_fraction_leaf=0.0,\n",
      "                                              n_estimators='warn', n_jobs=None,\n",
      "                                              oob_score=False, random_state=42,\n",
      "                                              verbose=0, warm_start=False),\n",
      "             iid='warn', n_jobs=None,\n",
      "             param_grid={'criterion': ['gini', 'entropy'],\n",
      "                         'max_depth': [3, 4, 5, 6],\n",
      "                         'min_samples_leaf': [0.01, 0.05],\n",
      "                         'n_estimators': [10, 100]},\n",
      "             pre_dispatch='2*n_jobs', refit=True, return_train_score=False,\n",
      "             scoring=None, verbose=0)\n",
      "[0.69782353 0.69094118 0.69647059 0.692      0.69364706 0.69441176\n",
      " 0.69047059 0.69388235 0.69829412 0.69947059 0.69164706 0.69335294\n",
      " 0.69876471 0.70023529 0.69164706 0.69341176 0.69535294 0.69076471\n",
      " 0.69276471 0.69088235 0.693      0.69341176 0.69188235 0.69188235\n",
      " 0.69876471 0.69758824 0.69088235 0.692      0.69923529 0.69952941\n",
      " 0.69088235 0.69205882]\n",
      "0.7002352941176471\n"
     ]
    }
   ],
   "source": [
    "# Building a model\n",
    "param_grid = {\n",
    "    \"criterion\":[\"gini\",\"entropy\"],\n",
    "    \"max_depth\":[3,4,5,6],\n",
    "    \"min_samples_leaf\":[0.01,0.05],\n",
    "    \"n_estimators\":[10,100]}\n",
    "estimator = RandomForestClassifier(random_state=42)\n",
    "search = GridSearchCV(estimator=estimator, param_grid=param_grid, cv=5)\n",
    "search.fit(X,y)\n",
    "print(search)\n",
    "\n",
    "# Evaluating results\n",
    "print(search.cv_results_[\"mean_test_score\"])\n",
    "print(np.max(search.cv_results_[\"mean_test_score\"]))\n"
   ]
  },
  {
   "cell_type": "markdown",
   "metadata": {},
   "source": [
    "#### 5.2.3. SVM"
   ]
  },
  {
   "cell_type": "code",
   "execution_count": 732,
   "metadata": {
    "collapsed": false
   },
   "outputs": [
    {
     "name": "stdout",
     "output_type": "stream",
     "text": [
      "GridSearchCV(cv=5, error_score='raise-deprecating',\n",
      "             estimator=SVC(C=1.0, cache_size=200, class_weight=None, coef0=0.0,\n",
      "                           decision_function_shape='ovr', degree=3,\n",
      "                           gamma='auto_deprecated', kernel='rbf', max_iter=-1,\n",
      "                           probability=False, random_state=42, shrinking=True,\n",
      "                           tol=0.001, verbose=False),\n",
      "             iid='warn', n_jobs=None, param_grid={'gamma': ['scale', 'auto']},\n",
      "             pre_dispatch='2*n_jobs', refit=True, return_train_score=False,\n",
      "             scoring=None, verbose=0)\n",
      "[0.65676471 0.62741176]\n",
      "0.6567647058823529\n"
     ]
    }
   ],
   "source": [
    "# Building a model\n",
    "param_grid = {\n",
    "    \"gamma\":[\"scale\",\"auto\"]}\n",
    "estimator = SVC(random_state=42)\n",
    "search = GridSearchCV(estimator=estimator, param_grid=param_grid, cv=5)\n",
    "search.fit(X,y)\n",
    "print(search)\n",
    "\n",
    "# Evaluating results\n",
    "print(search.cv_results_[\"mean_test_score\"])\n",
    "print(np.max(search.cv_results_[\"mean_test_score\"]))"
   ]
  },
  {
   "cell_type": "code",
   "execution_count": 733,
   "metadata": {
    "collapsed": false
   },
   "outputs": [
    {
     "name": "stdout",
     "output_type": "stream",
     "text": [
      "GridSearchCV(cv=5, error_score='raise-deprecating',\n",
      "             estimator=SVC(C=1.0, cache_size=200, class_weight=None, coef0=0.0,\n",
      "                           decision_function_shape='ovr', degree=3,\n",
      "                           gamma='auto_deprecated', kernel='rbf', max_iter=-1,\n",
      "                           probability=False, random_state=42, shrinking=True,\n",
      "                           tol=0.001, verbose=False),\n",
      "             iid='warn', n_jobs=None, param_grid={'gamma': ['scale', 'auto']},\n",
      "             pre_dispatch='2*n_jobs', refit=True, return_train_score=False,\n",
      "             scoring=None, verbose=0)\n",
      "[0.70288235 0.69205882]\n",
      "0.7028823529411765\n"
     ]
    }
   ],
   "source": [
    "# Building a model with one-hot variables\n",
    "param_grid = {\n",
    "    \"gamma\":[\"scale\",\"auto\"]}\n",
    "estimator = SVC(random_state=42)\n",
    "search = GridSearchCV(estimator=estimator, param_grid=param_grid, cv=5)\n",
    "search.fit(X_onehot,y)\n",
    "print(search)\n",
    "\n",
    "# Evaluating results\n",
    "print(search.cv_results_[\"mean_test_score\"])\n",
    "print(np.max(search.cv_results_[\"mean_test_score\"]))"
   ]
  },
  {
   "cell_type": "code",
   "execution_count": 735,
   "metadata": {
    "collapsed": false
   },
   "outputs": [
    {
     "name": "stderr",
     "output_type": "stream",
     "text": [
      "/usr/local/lib/python3.7/site-packages/sklearn/neural_network/multilayer_perceptron.py:566: ConvergenceWarning: Stochastic Optimizer: Maximum iterations (200) reached and the optimization hasn't converged yet.\n",
      "  % self.max_iter, ConvergenceWarning)\n",
      "/usr/local/lib/python3.7/site-packages/sklearn/neural_network/multilayer_perceptron.py:566: ConvergenceWarning: Stochastic Optimizer: Maximum iterations (200) reached and the optimization hasn't converged yet.\n",
      "  % self.max_iter, ConvergenceWarning)\n",
      "/usr/local/lib/python3.7/site-packages/sklearn/neural_network/multilayer_perceptron.py:566: ConvergenceWarning: Stochastic Optimizer: Maximum iterations (200) reached and the optimization hasn't converged yet.\n",
      "  % self.max_iter, ConvergenceWarning)\n",
      "/usr/local/lib/python3.7/site-packages/sklearn/neural_network/multilayer_perceptron.py:566: ConvergenceWarning: Stochastic Optimizer: Maximum iterations (200) reached and the optimization hasn't converged yet.\n",
      "  % self.max_iter, ConvergenceWarning)\n"
     ]
    },
    {
     "name": "stdout",
     "output_type": "stream",
     "text": [
      "GridSearchCV(cv=5, error_score='raise-deprecating',\n",
      "             estimator=MLPClassifier(activation='relu', alpha=0.0001,\n",
      "                                     batch_size='auto', beta_1=0.9,\n",
      "                                     beta_2=0.999, early_stopping=False,\n",
      "                                     epsilon=1e-08, hidden_layer_sizes=(100,),\n",
      "                                     learning_rate='constant',\n",
      "                                     learning_rate_init=0.001, max_iter=200,\n",
      "                                     momentum=0.9, n_iter_no_change=10,\n",
      "                                     nesterovs_momentum=True, power_t=0.5,\n",
      "                                     random_state=42, shuffle=True,\n",
      "                                     solver='adam', tol=0.0001,\n",
      "                                     validation_fraction=0.1, verbose=False,\n",
      "                                     warm_start=False),\n",
      "             iid='warn', n_jobs=None,\n",
      "             param_grid={'hidden_layer_sizes': [(10,), (50,), (100,)]},\n",
      "             pre_dispatch='2*n_jobs', refit=True, return_train_score=False,\n",
      "             scoring=None, verbose=0)\n",
      "[0.70117647 0.69688235 0.69447059]\n",
      "0.7011764705882353\n"
     ]
    }
   ],
   "source": [
    "from sklearn.neural_network import MLPClassifier\n",
    "# Building a model\n",
    "param_grid = {\n",
    "    \"hidden_layer_sizes\":[(10,),(50,),(100,)]}\n",
    "estimator = MLPClassifier(random_state=42)\n",
    "search = GridSearchCV(estimator=estimator, param_grid=param_grid, cv=5)\n",
    "search.fit(X_onehot,y)\n",
    "print(search)\n",
    "\n",
    "# Evaluating results\n",
    "print(search.cv_results_[\"mean_test_score\"])\n",
    "print(np.max(search.cv_results_[\"mean_test_score\"]))"
   ]
  },
  {
   "cell_type": "markdown",
   "metadata": {},
   "source": [
    "#### 5.3. Conclusion"
   ]
  },
  {
   "cell_type": "markdown",
   "metadata": {},
   "source": [
    "Based on the above experiments, **Decision Tree** algorithm achieved the best accuracy of 70.3%. Hence we will use decision tree to predict probability of customers completing offers."
   ]
  },
  {
   "cell_type": "markdown",
   "metadata": {},
   "source": [
    "### 5.4. Deployment"
   ]
  },
  {
   "cell_type": "markdown",
   "metadata": {},
   "source": [
    "With the prediction model which achieves the best accuracy, we need to determine a policy on how to send offers to customers who are likely to respond to the offers.  \n",
    "In order to do so, we will set a threshold of probability. If predicted probability of a customer completing an offer is higher than the threshold, we will send an offer to the customer. If not, we will not send it to him/her.  \n",
    "If we set threshold as high, then more likely customers are to complete offers but less customers will receive offers.  \n",
    "If we set threshold as low, less likely customers are to complete offers and more customers will receive offers.  \n",
    "We will explore the best balance."
   ]
  },
  {
   "cell_type": "code",
   "execution_count": 698,
   "metadata": {
    "collapsed": false
   },
   "outputs": [
    {
     "data": {
      "text/plain": [
       "DecisionTreeClassifier(class_weight=None, criterion='gini', max_depth=5,\n",
       "                       max_features=None, max_leaf_nodes=None,\n",
       "                       min_impurity_decrease=0.0, min_impurity_split=None,\n",
       "                       min_samples_leaf=0.01, min_samples_split=2,\n",
       "                       min_weight_fraction_leaf=0.0, presort=False,\n",
       "                       random_state=None, splitter='best')"
      ]
     },
     "execution_count": 698,
     "metadata": {},
     "output_type": "execute_result"
    }
   ],
   "source": [
    "# Splitting data into training data and test data\n",
    "X_train, X_test, y_train, y_test = train_test_split(X, y, test_size=0.2, random_state=42)\n",
    "\n",
    "# Building and training a model with Decision Tree Classifier\n",
    "clf = DecisionTreeClassifier(max_depth=5, min_samples_leaf=0.01)\n",
    "clf.fit(X_train, y_train)"
   ]
  },
  {
   "cell_type": "code",
   "execution_count": 495,
   "metadata": {
    "collapsed": false
   },
   "outputs": [
    {
     "data": {
      "text/plain": [
       "(array([ 96., 170., 287., 423., 106., 386., 256., 522., 317., 837.]),\n",
       " array([0.0483871 , 0.12673697, 0.20508685, 0.28343672, 0.3617866 ,\n",
       "        0.44013648, 0.51848635, 0.59683623, 0.6751861 , 0.75353598,\n",
       "        0.83188586]),\n",
       " <a list of 10 Patch objects>)"
      ]
     },
     "execution_count": 495,
     "metadata": {},
     "output_type": "execute_result"
    },
    {
     "data": {
      "image/png": "[encoded data removed]",
      "text/plain": [
       "<Figure size 432x288 with 1 Axes>"
      ]
     },
     "metadata": {
      "needs_background": "light"
     },
     "output_type": "display_data"
    }
   ],
   "source": [
    "# Predicting results\n",
    "y_pred = clf.predict_proba(X_test)\n",
    "\n",
    "# Visualizing distribution of probability\n",
    "plt.hist(y_pred[:,1])"
   ]
  },
  {
   "cell_type": "code",
   "execution_count": 699,
   "metadata": {
    "collapsed": false
   },
   "outputs": [
    {
     "data": {
      "text/html": [
       "<div>\n",
       "<style scoped>\n",
       "    .dataframe tbody tr th:only-of-type {\n",
       "        vertical-align: middle;\n",
       "    }\n",
       "\n",
       "    .dataframe tbody tr th {\n",
       "        vertical-align: top;\n",
       "    }\n",
       "\n",
       "    .dataframe thead th {\n",
       "        text-align: right;\n",
       "    }\n",
       "</style>\n",
       "<table border=\"1\" class=\"dataframe\">\n",
       "  <thead>\n",
       "    <tr style=\"text-align: right;\">\n",
       "      <th></th>\n",
       "      <th>num_recepients</th>\n",
       "      <th>conversion</th>\n",
       "      <th>num_recepients %</th>\n",
       "    </tr>\n",
       "  </thead>\n",
       "  <tbody>\n",
       "    <tr>\n",
       "      <th>90</th>\n",
       "      <td>415.0</td>\n",
       "      <td>0.819277</td>\n",
       "      <td>0.122059</td>\n",
       "    </tr>\n",
       "    <tr>\n",
       "      <th>80</th>\n",
       "      <td>800.0</td>\n",
       "      <td>0.827500</td>\n",
       "      <td>0.235294</td>\n",
       "    </tr>\n",
       "    <tr>\n",
       "      <th>70</th>\n",
       "      <td>1154.0</td>\n",
       "      <td>0.803293</td>\n",
       "      <td>0.339412</td>\n",
       "    </tr>\n",
       "    <tr>\n",
       "      <th>60</th>\n",
       "      <td>1411.0</td>\n",
       "      <td>0.771793</td>\n",
       "      <td>0.415000</td>\n",
       "    </tr>\n",
       "    <tr>\n",
       "      <th>50</th>\n",
       "      <td>1862.0</td>\n",
       "      <td>0.733620</td>\n",
       "      <td>0.547647</td>\n",
       "    </tr>\n",
       "    <tr>\n",
       "      <th>40</th>\n",
       "      <td>2062.0</td>\n",
       "      <td>0.717265</td>\n",
       "      <td>0.606471</td>\n",
       "    </tr>\n",
       "    <tr>\n",
       "      <th>30</th>\n",
       "      <td>2424.0</td>\n",
       "      <td>0.674917</td>\n",
       "      <td>0.712941</td>\n",
       "    </tr>\n",
       "    <tr>\n",
       "      <th>20</th>\n",
       "      <td>2822.0</td>\n",
       "      <td>0.631467</td>\n",
       "      <td>0.830000</td>\n",
       "    </tr>\n",
       "    <tr>\n",
       "      <th>10</th>\n",
       "      <td>3134.0</td>\n",
       "      <td>0.589343</td>\n",
       "      <td>0.921765</td>\n",
       "    </tr>\n",
       "  </tbody>\n",
       "</table>\n",
       "</div>"
      ],
      "text/plain": [
       "    num_recepients  conversion  num_recepients %\n",
       "90           415.0    0.819277          0.122059\n",
       "80           800.0    0.827500          0.235294\n",
       "70          1154.0    0.803293          0.339412\n",
       "60          1411.0    0.771793          0.415000\n",
       "50          1862.0    0.733620          0.547647\n",
       "40          2062.0    0.717265          0.606471\n",
       "30          2424.0    0.674917          0.712941\n",
       "20          2822.0    0.631467          0.830000\n",
       "10          3134.0    0.589343          0.921765"
      ]
     },
     "execution_count": 699,
     "metadata": {},
     "output_type": "execute_result"
    }
   ],
   "source": [
    "# Aggregating distribution of probability by intervals of 10 percentile \n",
    "result = pd.DataFrame(columns=[\"num_recepients\",\"conversion\"],dtype=np.float)\n",
    "for i in range(90,0,-10):\n",
    "    threshold = np.percentile(y_pred[:,1], i)\n",
    "    num_recepients = np.sum(y_pred[:,1] >= threshold)\n",
    "    num_completed = np.sum(y.loc[X_test.index][y_pred[:,1] >= threshold])\n",
    "    conv_ratio = num_completed / num_recepients\n",
    "    result = result.append(pd.DataFrame({\"num_recepients\":num_recepients, \"conversion\":conv_ratio},index=[i]))\n",
    "\n",
    "result"
   ]
  },
  {
   "cell_type": "code",
   "execution_count": 555,
   "metadata": {
    "collapsed": false
   },
   "outputs": [
    {
     "data": {
      "text/plain": [
       "<matplotlib.axes._subplots.AxesSubplot at 0x135588d10>"
      ]
     },
     "execution_count": 555,
     "metadata": {},
     "output_type": "execute_result"
    },
    {
     "data": {
      "image/png": "[encoded data removed]",
      "text/plain": [
       "<Figure size 432x288 with 1 Axes>"
      ]
     },
     "metadata": {
      "needs_background": "light"
     },
     "output_type": "display_data"
    }
   ],
   "source": [
    "result[\"num_recepients %\"] = result[\"num_recepients\"]/3400\n",
    "\n",
    "result.plot.scatter(x=\"num_recepients %\",y=\"conversion\")"
   ]
  },
  {
   "cell_type": "markdown",
   "metadata": {},
   "source": [
    "If we send offers to only **top 10%** of customers(90 percentile), conversion rate will be **81.9%**.  \n",
    "On the other hand, if we send offers to half(**50%**) of customers, conversion rate will drop dwon to **73.4%**. The number will decrease along with number of receipients increase."
   ]
  }
 ],
 "metadata": {
  "kernelspec": {
   "display_name": "Python 3",
   "language": "python",
   "name": "python3"
  },
  "language_info": {
   "codemirror_mode": {
    "name": "ipython",
    "version": 3
   },
   "file_extension": ".py",
   "mimetype": "text/x-python",
   "name": "python",
   "nbconvert_exporter": "python",
   "pygments_lexer": "ipython3",
   "version": "3.7.4"
  }
 },
 "nbformat": 4,
 "nbformat_minor": 2
}
